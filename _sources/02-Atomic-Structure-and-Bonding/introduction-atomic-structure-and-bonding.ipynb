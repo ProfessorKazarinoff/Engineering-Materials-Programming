{
 "cells": [
  {
   "cell_type": "markdown",
   "id": "exceptional-guidance",
   "metadata": {},
   "source": [
    "# Atomic Structure and Bonding"
   ]
  },
  {
   "cell_type": "markdown",
   "id": "instructional-invalid",
   "metadata": {},
   "source": [
    "This chapter contains problems that related to atomic structure and bonding.\n",
    "\n",
    "Atomic structure is the structure of an atom. This structure includes how many protons, neutrons and electrons make each atom as well as other atomic properties such as electronegativity and atomic radius.\n",
    "\n",
    "Macroscopic properties such as elastic modulus and the coefficient of thermal expansion of different materials can be compared using atomic scale models of bond force and bond energy."
   ]
  }
 ],
 "metadata": {
  "kernelspec": {
   "display_name": "Python 3",
   "language": "python",
   "name": "python3"
  },
  "language_info": {
   "codemirror_mode": {
    "name": "ipython",
    "version": 3
   },
   "file_extension": ".py",
   "mimetype": "text/x-python",
   "name": "python",
   "nbconvert_exporter": "python",
   "pygments_lexer": "ipython3",
   "version": "3.7.6"
  }
 },
 "nbformat": 4,
 "nbformat_minor": 5
}
