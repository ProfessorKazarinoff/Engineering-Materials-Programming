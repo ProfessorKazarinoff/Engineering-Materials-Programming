{
 "cells": [
  {
   "cell_type": "markdown",
   "metadata": {},
   "source": [
    "# Unit Conversions"
   ]
  },
  {
   "cell_type": "markdown",
   "metadata": {},
   "source": [
    "Units and unit conversions are **BIG** in engineering. Engineers solve the world's problems in teams. Any problem solved has to have a context. How heavy can a rocket be and still make it off the ground? What thickness bodypannels keep occupants save during a crash? In engineering, a number without a unit is like a fish without water. It just flops around hopelessly without context. \n",
    "\n",
    "How can we get help using units? Programming is one way. We are going to complete some unit conversion problmes using Python and Pint. Pint is a Python package used for unit conversions.\n",
    "\n",
    "See the ([Pint documentation](http://pint.readthedocs.io/en/latest/)) for more examples."
   ]
  },
  {
   "cell_type": "markdown",
   "metadata": {},
   "source": [
    "I recommend that undergraduate engineers use the Anaconda distribution of Python. To use **Pint**, you need to install pint in your wroking version of Python. Open up the **Anaconda Prompt** and type:\n",
    "\n",
    "```text\n",
    "> conda install -c conda-forge pint\n",
    "```\n",
    "\n",
    "If you are not using the Anaconda distribution of Python, the **pint** package can also be installed with **pip** the Python package manager.\n",
    "\n",
    "```text\n",
    "$ pip install pint\n",
    "```\n",
    "\n",
    "I am working on a Windows 10 machine. You can check your operating system and Python version using the code below: "
   ]
  },
  {
   "cell_type": "code",
   "execution_count": 1,
   "metadata": {},
   "outputs": [
    {
     "name": "stdout",
     "output_type": "stream",
     "text": [
      "Operating System: Windows10\n",
      "Python Version: 3.7.6\n"
     ]
    }
   ],
   "source": [
    "import platform\n",
    "print('Operating System: ' + platform.system() + platform.release())\n",
    "print('Python Version: '+ platform.python_version())"
   ]
  },
  {
   "cell_type": "markdown",
   "metadata": {},
   "source": [
    "Before we can complete a unit conversion with the Pint package, we need to ```import``` the Pint module and instantiate a ```UnitRegistry``` object. The new ```ureg``` object contains all the units used in the examples below."
   ]
  },
  {
   "cell_type": "code",
   "execution_count": 2,
   "metadata": {},
   "outputs": [],
   "source": [
    "import pint\n",
    "ureg = pint.UnitRegistry()"
   ]
  },
  {
   "cell_type": "markdown",
   "metadata": {},
   "source": [
    "For our first problem, we will complete the following converison:\n",
    "\n",
    "#### Convert 252 kW to Btu/day\n",
    "\n",
    "We'll create a variable called ```power``` with units of kilowatts (kW). To create the kW unit, we'll use our ```ureg``` object."
   ]
  },
  {
   "cell_type": "code",
   "execution_count": 3,
   "metadata": {},
   "outputs": [
    {
     "name": "stdout",
     "output_type": "stream",
     "text": [
      "252 kilowatt\n"
     ]
    }
   ],
   "source": [
    "power = 252*ureg.kW\n",
    "print(power)"
   ]
  },
  {
   "cell_type": "markdown",
   "metadata": {},
   "source": [
    "To convert ```power``` to Btu/day, we use Pint's ```.to()``` method. The ```.to()``` method does not change the units of ```power``` in place. We need to assign the output of the ```.to()``` method to another variable ```power_in_Btu_per_day```"
   ]
  },
  {
   "cell_type": "code",
   "execution_count": 4,
   "metadata": {},
   "outputs": [
    {
     "name": "stdout",
     "output_type": "stream",
     "text": [
      "20636629.714441698 british_thermal_unit / day\n"
     ]
    }
   ],
   "source": [
    "power_in_Btu_per_day = power.to(ureg.Btu / ureg.day)\n",
    "print(power_in_Btu_per_day)"
   ]
  },
  {
   "cell_type": "markdown",
   "metadata": {},
   "source": [
    "Another probem:\n",
    "\n",
    "#### Convert 722 MPa to ksi"
   ]
  },
  {
   "cell_type": "code",
   "execution_count": 5,
   "metadata": {},
   "outputs": [],
   "source": [
    "stress = 722*ureg.MPa"
   ]
  },
  {
   "cell_type": "code",
   "execution_count": 6,
   "metadata": {},
   "outputs": [
    {
     "name": "stdout",
     "output_type": "stream",
     "text": [
      "104.71724664121105 kip_per_square_inch\n"
     ]
    }
   ],
   "source": [
    "stress_in_ksi = stress.to(ureg.ksi)\n",
    "print(stress_in_ksi)"
   ]
  },
  {
   "cell_type": "markdown",
   "metadata": {},
   "source": [
    "Next problem:\n",
    "\n",
    "#### Convert 1.620 m/s<sup>2</sup> to ft/min<sup>2</sup>"
   ]
  },
  {
   "cell_type": "code",
   "execution_count": 7,
   "metadata": {},
   "outputs": [
    {
     "name": "stdout",
     "output_type": "stream",
     "text": [
      "1.62 meter / second ** 2\n"
     ]
    }
   ],
   "source": [
    "accel = 1.620 *ureg.m/(ureg.s**2)\n",
    "print(accel)"
   ]
  },
  {
   "cell_type": "markdown",
   "metadata": {},
   "source": [
    "This time we will use the ```.ito()``` method. Using ```.ito()``` will convert the units of ```accel``` in place."
   ]
  },
  {
   "cell_type": "code",
   "execution_count": 8,
   "metadata": {},
   "outputs": [
    {
     "name": "stdout",
     "output_type": "stream",
     "text": [
      "19133.85826771654 foot / minute ** 2\n"
     ]
    }
   ],
   "source": [
    "accel.ito(ureg.ft/(ureg.min**2))\n",
    "print(accel)"
   ]
  },
  {
   "cell_type": "markdown",
   "metadata": {},
   "source": [
    "#### Convert 14.31 x 10<sup>8</sup> kJ kg mm<sup>-3</sup> to cal lb<sub>m</sub> / in<sup>3</sup>"
   ]
  },
  {
   "cell_type": "code",
   "execution_count": 9,
   "metadata": {},
   "outputs": [
    {
     "name": "stdout",
     "output_type": "stream",
     "text": [
      "1431000000.0 kilogram * kilojoule / millimeter ** 3\n"
     ]
    }
   ],
   "source": [
    "quant = 14.31e8 * ureg.kJ * ureg.kg * ureg.mm**(-3)\n",
    "print(quant)"
   ]
  },
  {
   "cell_type": "code",
   "execution_count": 10,
   "metadata": {},
   "outputs": [
    {
     "name": "stdout",
     "output_type": "stream",
     "text": [
      "1.2356155557389996e+16 calorie * pound / inch ** 3\n"
     ]
    }
   ],
   "source": [
    "quant.ito( ureg.cal*ureg.lb / (ureg.inch**3))\n",
    "print(quant)"
   ]
  }
 ],
 "metadata": {
  "kernelspec": {
   "display_name": "Python 3",
   "language": "python",
   "name": "python3"
  },
  "language_info": {
   "codemirror_mode": {
    "name": "ipython",
    "version": 3
   },
   "file_extension": ".py",
   "mimetype": "text/x-python",
   "name": "python",
   "nbconvert_exporter": "python",
   "pygments_lexer": "ipython3",
   "version": "3.7.6"
  }
 },
 "nbformat": 4,
 "nbformat_minor": 2
}
