{
 "cells": [
  {
   "cell_type": "markdown",
   "id": "atomic-devil",
   "metadata": {},
   "source": [
    "## Cold Work Calculation"
   ]
  },
  {
   "cell_type": "code",
   "execution_count": 1,
   "id": "obvious-original",
   "metadata": {},
   "outputs": [],
   "source": [
    "import numpy as np\n",
    "import sys"
   ]
  },
  {
   "cell_type": "code",
   "execution_count": 2,
   "id": "whole-flooring",
   "metadata": {},
   "outputs": [
    {
     "name": "stdout",
     "output_type": "stream",
     "text": [
      "Python Version: 3.8.5 (default, Sep  3 2020, 21:29:08) [MSC v.1916 64 bit (AMD64)]\n",
      "NumPy Version: 1.19.2\n"
     ]
    }
   ],
   "source": [
    "print(f'Python Version: {sys.version}')\n",
    "print(f'NumPy Version: {np.__version__}')"
   ]
  },
  {
   "cell_type": "code",
   "execution_count": 3,
   "id": "weird-consistency",
   "metadata": {},
   "outputs": [],
   "source": [
    "def percent_cw(Ai,Af):\n",
    "    cw_percent = ((Ai - Af)/Ai) * 100\n",
    "    return cw_percent"
   ]
  },
  {
   "cell_type": "code",
   "execution_count": 4,
   "id": "impossible-standard",
   "metadata": {},
   "outputs": [],
   "source": [
    "def cir_a(d):\n",
    "    return np.pi*(d/2)**2"
   ]
  },
  {
   "cell_type": "code",
   "execution_count": 5,
   "id": "identified-testament",
   "metadata": {},
   "outputs": [],
   "source": [
    "def percent_cw_d(di,df):\n",
    "    Ai = cir_a(di)\n",
    "    Af = cir_a(df)\n",
    "    cw_percent = percent_cw(Ai,Af)\n",
    "    return cw_percent"
   ]
  },
  {
   "cell_type": "code",
   "execution_count": null,
   "id": "international-import",
   "metadata": {},
   "outputs": [],
   "source": []
  }
 ],
 "metadata": {
  "kernelspec": {
   "display_name": "Python 3",
   "language": "python",
   "name": "python3"
  },
  "language_info": {
   "codemirror_mode": {
    "name": "ipython",
    "version": 3
   },
   "file_extension": ".py",
   "mimetype": "text/x-python",
   "name": "python",
   "nbconvert_exporter": "python",
   "pygments_lexer": "ipython3",
   "version": "3.8.5"
  }
 },
 "nbformat": 4,
 "nbformat_minor": 5
}
