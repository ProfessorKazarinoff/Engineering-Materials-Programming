{
 "cells": [
  {
   "cell_type": "markdown",
   "metadata": {},
   "source": [
    "# Cold Work Problem"
   ]
  },
  {
   "cell_type": "markdown",
   "metadata": {},
   "source": [
    "Cold working is the process of plastically deforming a material at room temperature in order to increase its strength. Most metal alloys such as steel, aluminum and brass will increase in yield strength and tensile strength when cold worked. \n",
    "\n",
    "Cold working increases strength of polycrystalline metal alloys by increasing the dislocation density within the grains of the material. This dislocation density decreases subsequent dislocation motion, and therefore increases strength."
   ]
  },
  {
   "cell_type": "markdown",
   "metadata": {},
   "source": [
    "We are going to solve a coldwork problem using a Python package called SymPy. SymPy can be installed at the Anaconda Prompt using the command below:\n",
    "\n",
    "```text\n",
    "> conda install sympy\n",
    "```\n",
    "\n",
    "We can use sympy to define the variables and equation which is used in coldwork calculations. The equation we are going to model is below:\n",
    "\n",
    "$$ \\%CW = \\frac{A_i - A_f}{A_i} \\times 100\\% $$\n",
    "\n",
    "Where $A_i$ is the initial cross-sectional area and $A_f$ is the final cross sectional area."
   ]
  },
  {
   "cell_type": "code",
   "execution_count": 3,
   "metadata": {},
   "outputs": [],
   "source": [
    "import sympy"
   ]
  },
  {
   "cell_type": "code",
   "execution_count": 4,
   "metadata": {},
   "outputs": [
    {
     "name": "stdout",
     "output_type": "stream",
     "text": [
      "SymPy version: 1.7.1\n"
     ]
    }
   ],
   "source": [
    "print(f\"SymPy version: {sympy.__version__}\")"
   ]
  },
  {
   "cell_type": "code",
   "execution_count": 5,
   "metadata": {},
   "outputs": [],
   "source": [
    "Ai, Af, CW = sympy.symbols('Ai Af CW')"
   ]
  },
  {
   "cell_type": "code",
   "execution_count": 12,
   "metadata": {},
   "outputs": [],
   "source": [
    "di, df = sympy.symbols('di df')"
   ]
  },
  {
   "cell_type": "code",
   "execution_count": 8,
   "metadata": {},
   "outputs": [
    {
     "name": "stdout",
     "output_type": "stream",
     "text": [
      "Eq(-CW + (-Af + Ai)/Ai, 0)\n"
     ]
    }
   ],
   "source": [
    "eq1 = sympy.Eq( (Ai - Af)/Ai - CW, 0)\n",
    "print(eq1)"
   ]
  },
  {
   "cell_type": "code",
   "execution_count": 10,
   "metadata": {},
   "outputs": [
    {
     "name": "stdout",
     "output_type": "stream",
     "text": [
      "[-Af/(CW - 1)]\n"
     ]
    }
   ],
   "source": [
    "exr = sympy.solve(eq1,Ai)\n",
    "print(exr)"
   ]
  },
  {
   "cell_type": "code",
   "execution_count": 14,
   "metadata": {},
   "outputs": [
    {
     "data": {
      "text/latex": [
       "$\\displaystyle - CW + \\frac{- Af + Ai}{Ai} = 0$"
      ],
      "text/plain": [
       "Eq(-CW + (-Af + Ai)/Ai, 0)"
      ]
     },
     "execution_count": 14,
     "metadata": {},
     "output_type": "execute_result"
    }
   ],
   "source": [
    "eq1.subs(Af, df/2**2)\n",
    "eq1"
   ]
  },
  {
   "cell_type": "code",
   "execution_count": null,
   "metadata": {},
   "outputs": [],
   "source": []
  }
 ],
 "metadata": {
  "kernelspec": {
   "display_name": "Python 3",
   "language": "python",
   "name": "python3"
  },
  "language_info": {
   "codemirror_mode": {
    "name": "ipython",
    "version": 3
   },
   "file_extension": ".py",
   "mimetype": "text/x-python",
   "name": "python",
   "nbconvert_exporter": "python",
   "pygments_lexer": "ipython3",
   "version": "3.7.6"
  }
 },
 "nbformat": 4,
 "nbformat_minor": 2
}
