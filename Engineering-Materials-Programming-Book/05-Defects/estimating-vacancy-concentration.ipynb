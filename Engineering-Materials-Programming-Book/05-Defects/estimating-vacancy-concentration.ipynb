{
 "cells": [
  {
   "attachments": {},
   "cell_type": "markdown",
   "id": "junior-commercial",
   "metadata": {},
   "source": [
    "## Estimating Vacancy Concentration\n",
    "\n",
    "The following is a calculation of the number of vacancy defects in a material. "
   ]
  },
  {
   "cell_type": "markdown",
   "id": "studied-metropolitan",
   "metadata": {},
   "source": [
    "### Given:\n",
    "\n",
    "1 m^3 of Cu at 1000 *C.\n",
    "\n",
    "p = 8.4 g/cm3\n",
    "\n",
    "Qv = 86.7 kJ/mol\n",
    "\n",
    "A = 63.5 g/mol\n",
    "\n",
    "Na = 6.02 X 10^23 atoms/mol\n",
    "\n",
    "R = 8.31 J/mol K"
   ]
  },
  {
   "cell_type": "markdown",
   "id": "loving-symphony",
   "metadata": {},
   "source": [
    "### Find:\n",
    "\n",
    "Find the equalibrium number of vacancies in 1 m^3 of Cu at 1000 *C"
   ]
  },
  {
   "cell_type": "markdown",
   "id": "chief-recipe",
   "metadata": {},
   "source": [
    "### Solution:\n",
    "\n",
    "Use the vacancy concentration equation\n",
    "\n",
    "v_n/n = e^(-Qv/RT)\n",
    "\n",
    "Solve for the number of vacancies v_n\n",
    "\n",
    "v_n = ne^(-Qv/RT)\n",
    "\n",
    "\n",
    "We have: Qv, R and T, so what need to calculate is n, the number of potential defect sites."
   ]
  },
  {
   "cell_type": "code",
   "execution_count": 1,
   "id": "simplified-gauge",
   "metadata": {},
   "outputs": [],
   "source": [
    "from math import exp"
   ]
  },
  {
   "cell_type": "code",
   "execution_count": 2,
   "id": "going-understanding",
   "metadata": {},
   "outputs": [],
   "source": [
    "# find the number of atoms of copper using the volume of copper, molar mass of copper the density and avagadros number\n",
    "\n",
    "v_Cu_m3 = 1    # volumer of Cu in meters^3\n",
    "v_Cu_cm3 = v_Cu_m3*(100**3/1**3)  # volume of Cu in cm^3\n",
    "p = 8.4 # g/cm3    density of Cu\n",
    "m_Cu_g = v_Cu_cm3 * (p)  # mass of Cu in g\n",
    "A = 63.5 # g/mol   molar mass of Cu from the periodic table\n",
    "mol_Cu = m_Cu_g/A   # mol of Cu\n",
    "Na = 6.02 * 10**23 # atoms/mol    Avagadros Number\n",
    "atoms_Cu = mol_Cu * Na  # number of atoms Cu\n",
    "n = atoms_Cu # number of potential defect sites is the number of Cu atoms"
   ]
  },
  {
   "cell_type": "code",
   "execution_count": 3,
   "id": "gross-memphis",
   "metadata": {},
   "outputs": [
    {
     "name": "stdout",
     "output_type": "stream",
     "text": [
      "2.1964692178195925e+25\n"
     ]
    }
   ],
   "source": [
    "# find the number of vacancies, v_n using number of atoms, Qv, R, T\n",
    "# v_n = ne^(-Qv/RT)\n",
    "Qv_kJpermol =  86.7 # kJ/mol   Activation Energy\n",
    "Qv = Qv_kJpermol*1000  # J/mol Activation Energy\n",
    "R = 8.31 # J/mol K    Universal Gas Constant\n",
    "T_C = 1000 # *C      Temperature\n",
    "T = T_C+273 # K      Temperature\n",
    "\n",
    "\n",
    "\n",
    "n_v = n*exp(-Qv/(R*T))  # number of vacancies\n",
    "print(n_v)"
   ]
  },
  {
   "cell_type": "code",
   "execution_count": 4,
   "id": "social-scenario",
   "metadata": {},
   "outputs": [
    {
     "name": "stdout",
     "output_type": "stream",
     "text": [
      "The number of vacancies in 1 m^3 of Cu at 1000*C is: 2.2e+25\n"
     ]
    }
   ],
   "source": [
    "print(f'The number of vacancies in 1 m^3 of Cu at 1000*C is: {n_v:.1e}')"
   ]
  }
 ],
 "metadata": {
  "kernelspec": {
   "display_name": "Python 3",
   "language": "python",
   "name": "python3"
  },
  "language_info": {
   "codemirror_mode": {
    "name": "ipython",
    "version": 3
   },
   "file_extension": ".py",
   "mimetype": "text/x-python",
   "name": "python",
   "nbconvert_exporter": "python",
   "pygments_lexer": "ipython3",
   "version": "3.8.5"
  }
 },
 "nbformat": 4,
 "nbformat_minor": 5
}
