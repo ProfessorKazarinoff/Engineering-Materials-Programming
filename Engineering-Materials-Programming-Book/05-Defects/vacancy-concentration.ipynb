{
 "cells": [
  {
   "cell_type": "markdown",
   "id": "attended-renewal",
   "metadata": {},
   "source": [
    "## Number of Vacancies"
   ]
  },
  {
   "cell_type": "markdown",
   "id": "overhead-september",
   "metadata": {},
   "source": [
    "Let's solve the problem below that invovles the concentration of vacancies in a material. This type of calculation can be completed fairly easily with computer programing.\n",
    "\n",
    "#### Given\n",
    "\n",
    "Number of vacancies $n$ in materials crystal structure can be modeled using the equation below.\n",
    "\n",
    "$$ n = n_{v}e^{-Q_v/(RT)} $$\n",
    "\n",
    "In a system where $n_v = 2.0 \\times 10^{-3}$, $Q_v = 5$, $R=3.18$, and $T=293$, calculate $n$.\n",
    "\n",
    "#### Find\n",
    "\n",
    "Use variables to assign a value to each one of the constants in the problem and calculate $n$.\n",
    "\n",
    "#### Solution"
   ]
  },
  {
   "cell_type": "code",
   "execution_count": 3,
   "id": "economic-measure",
   "metadata": {},
   "outputs": [
    {
     "data": {
      "text/plain": [
       "0.0019892961379660424"
      ]
     },
     "execution_count": 3,
     "metadata": {},
     "output_type": "execute_result"
    }
   ],
   "source": [
    "from math import exp\n",
    "\n",
    "nv = 2.0e-3\n",
    "Qv = 5\n",
    "R = 3.18\n",
    "T = 293\n",
    "\n",
    "n = nv*exp(-1*Qv/(R*T))\n",
    "n"
   ]
  }
 ],
 "metadata": {
  "kernelspec": {
   "display_name": "Python 3",
   "language": "python",
   "name": "python3"
  },
  "language_info": {
   "codemirror_mode": {
    "name": "ipython",
    "version": 3
   },
   "file_extension": ".py",
   "mimetype": "text/x-python",
   "name": "python",
   "nbconvert_exporter": "python",
   "pygments_lexer": "ipython3",
   "version": "3.8.5"
  }
 },
 "nbformat": 4,
 "nbformat_minor": 5
}
