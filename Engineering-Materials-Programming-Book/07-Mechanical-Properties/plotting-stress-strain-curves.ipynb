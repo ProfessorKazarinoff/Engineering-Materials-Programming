{
 "cells": [
  {
   "cell_type": "markdown",
   "metadata": {},
   "source": [
    "## Plotting Stress Strain Curves"
   ]
  },
  {
   "cell_type": "markdown",
   "metadata": {},
   "source": [
    "In this section, we'll use data from a tensile test to build a stress strain curve with Python and Matplotlib.\n",
    "\n",
    "A tensile test is a type of mechanical test performed by engineers used to determine the mechanical properties of a material. Engineering metal alloys such as steel and aluminum alloys are tensile tested in order to determine their strength and stiffness. Tensile tests are performed in a piece of equipment called a mechanical test frame."
   ]
  },
  {
   "cell_type": "markdown",
   "metadata": {},
   "source": [
    "![instron](images/instron.jpg)"
   ]
  },
  {
   "cell_type": "markdown",
   "metadata": {},
   "source": [
    "After a tensile test is complete, a set of data is produced by the mechanical test frame. Using the data acquired during a tensile test, a stress-strain curve can be produced.\n",
    "\n",
    "In this post, we will create a stress-strain curve (a plot) from a set of tensile test data of a steel 1045 sample and an aluminum 6061 sample. The stress strain curve we construct will have the following features:\n",
    "\n",
    " * A descriptive title\n",
    " * Axes labels with units\n",
    " * Two lines on the same plot. One line for steel 1045 and one line for aluminum 6061\n",
    " * A legend\n"
   ]
  },
  {
   "cell_type": "markdown",
   "metadata": {},
   "source": [
    "### Open a Jupyter notebook\n",
    "\n",
    "We will construct our stress strain curve using a Jupyter notebook.\n",
    "\n",
    "Make sure to save your Jupyter notebook with a recognizable name."
   ]
  },
  {
   "cell_type": "markdown",
   "metadata": {},
   "source": [
    "### Download the data and move the data into the same folder as the Jupyter notebook\n",
    "\n",
    "Next, we need to download the two data files that we will use to build our stress-strain curve. You can download sample data using the links below:\n",
    "\n",
    "[Al6061_raw_data.xls](https://github.com/ProfessorKazarinoff/Engineering-Materials-Programming/raw/main/Engineering-Materials-Programming-Book/07-Mechanical-Properties/Al60601_raw_data.xls)\n",
    "\n",
    "[Steel1018_raw_data.xls](https://github.com/ProfessorKazarinoff/Engineering-Materials-Programming/raw/main/Engineering-Materials-Programming-Book/07-Mechanical-Properties/Steel1018_raw_data.xls)\n",
    "\n",
    "After these .xls files are downloaded, both .xls files need to be moved into the same folder as your running Jupyter notebook."
   ]
  },
  {
   "cell_type": "markdown",
   "metadata": {},
   "source": [
    "### Import NumPy, Pandas, and Matplotlib\n",
    "\n",
    "Now that a Jupyter notebook is open and the two .xls data files are in the same folder as the Jupyter notebook, we can start coding and build our plot.\n",
    "\n",
    "At the top of the Jupyter notebook, import NumPy, Pandas and Matplotlib. The command ```%matplotlib inline``` is included so that our plot will display directly inside our Jupyter notebook. If you are using a .py file instead of a Jupyter notebook, make sure to comment out ```%matplotlib inline``` as this line is not valid Python code."
   ]
  },
  {
   "cell_type": "code",
   "execution_count": 1,
   "metadata": {},
   "outputs": [],
   "source": [
    "# imports\n",
    "import numpy as np\n",
    "import pandas as pd\n",
    "import matplotlib.pyplot as plt\n",
    "from scipy.stats import linregress\n",
    "%matplotlib inline"
   ]
  },
  {
   "cell_type": "markdown",
   "metadata": {},
   "source": [
    "### Ensure the two .xls data files are in the same folder as the Jupyter notebook\n",
    "\n",
    "Before we proceed, it's a good idea make sure the two .xls data files are in the same folder as our running Jupyter notebook.\n",
    "\n",
    "We'll use a Jupyter notebook magic command to print out the contents of the folder that our notebook is in. The ```%ls``` command lists the contents of the current folder."
   ]
  },
  {
   "cell_type": "code",
   "execution_count": 2,
   "metadata": {},
   "outputs": [
    {
     "name": "stdout",
     "output_type": "stream",
     "text": [
      "\u001b[0m\u001b[01;35mABS_HIPS_plot_with_error_bars.png\u001b[0m\r\n",
      "Al60601_raw_data.xls\r\n",
      "bar_plot_with_error_bars.ipynb\r\n",
      "calculate-yield-strength-programmatically.ipynb\r\n",
      "\u001b[01;34mimages\u001b[0m/\r\n",
      "mechanical-properties-from-stress-strain-curves.ipynb\r\n",
      "mechanical-properties-intro.md\r\n",
      "plotting-stress-strain-curves.ipynb\r\n",
      "Steel1018_raw_data.xls\r\n",
      "\u001b[01;35mstress-strain_curve.png\u001b[0m\r\n",
      "stress_strain_curve_with_inset_elastic_region.ipynb\r\n",
      "\u001b[01;35mstress_strain_curve_with_inset.png\u001b[0m\r\n"
     ]
    }
   ],
   "source": [
    "%ls"
   ]
  },
  {
   "cell_type": "markdown",
   "metadata": {},
   "source": [
    "We can see the two .xls data files ```Al60601_raw_data.xls``` and ```Steel1018_raw_data.xls``` are in our current folder."
   ]
  },
  {
   "cell_type": "markdown",
   "metadata": {},
   "source": [
    "### Read the Excel files\n",
    "\n",
    "Now that we are sure the two .xls data files are in the same folder as our notebook, we can import the data in the two two .xls files using Panda's ```pd.read_excel()``` function. The data from the two excel files will be stored in two Pandas dataframes called ```steel_df``` and ```al_df```. A Panda's dataframe is a tabular data type.\n",
    "\n",
    "We can use Panda's ```.head()``` method to view the first five rows of each dataframe."
   ]
  },
  {
   "cell_type": "code",
   "execution_count": 3,
   "metadata": {},
   "outputs": [
    {
     "name": "stdout",
     "output_type": "stream",
     "text": [
      "WARNING *** OLE2 inconsistency: SSCS size is 0 but SSAT size is non-zero\n"
     ]
    },
    {
     "data": {
      "text/html": [
       "<div>\n",
       "<style scoped>\n",
       "    .dataframe tbody tr th:only-of-type {\n",
       "        vertical-align: middle;\n",
       "    }\n",
       "\n",
       "    .dataframe tbody tr th {\n",
       "        vertical-align: top;\n",
       "    }\n",
       "\n",
       "    .dataframe thead th {\n",
       "        text-align: right;\n",
       "    }\n",
       "</style>\n",
       "<table border=\"1\" class=\"dataframe\">\n",
       "  <thead>\n",
       "    <tr style=\"text-align: right;\">\n",
       "      <th></th>\n",
       "      <th>TESTNUM</th>\n",
       "      <th>POINTNUM</th>\n",
       "      <th>TIME</th>\n",
       "      <th>POSIT</th>\n",
       "      <th>FORCE</th>\n",
       "      <th>EXT</th>\n",
       "      <th>CH5</th>\n",
       "      <th>CH6</th>\n",
       "      <th>CH7</th>\n",
       "      <th>CH8</th>\n",
       "    </tr>\n",
       "  </thead>\n",
       "  <tbody>\n",
       "    <tr>\n",
       "      <th>0</th>\n",
       "      <td>542</td>\n",
       "      <td>1</td>\n",
       "      <td>8.470</td>\n",
       "      <td>0.02256</td>\n",
       "      <td>201.146011</td>\n",
       "      <td>-0.001444</td>\n",
       "      <td>0.007552</td>\n",
       "      <td>NaN</td>\n",
       "      <td>NaN</td>\n",
       "      <td>NaN</td>\n",
       "    </tr>\n",
       "    <tr>\n",
       "      <th>1</th>\n",
       "      <td>542</td>\n",
       "      <td>2</td>\n",
       "      <td>8.632</td>\n",
       "      <td>0.02330</td>\n",
       "      <td>206.599442</td>\n",
       "      <td>0.000302</td>\n",
       "      <td>0.007552</td>\n",
       "      <td>NaN</td>\n",
       "      <td>NaN</td>\n",
       "      <td>NaN</td>\n",
       "    </tr>\n",
       "    <tr>\n",
       "      <th>2</th>\n",
       "      <td>542</td>\n",
       "      <td>3</td>\n",
       "      <td>10.027</td>\n",
       "      <td>0.02846</td>\n",
       "      <td>287.512573</td>\n",
       "      <td>0.003044</td>\n",
       "      <td>0.018898</td>\n",
       "      <td>NaN</td>\n",
       "      <td>NaN</td>\n",
       "      <td>NaN</td>\n",
       "    </tr>\n",
       "    <tr>\n",
       "      <th>3</th>\n",
       "      <td>542</td>\n",
       "      <td>4</td>\n",
       "      <td>11.031</td>\n",
       "      <td>0.03232</td>\n",
       "      <td>365.380981</td>\n",
       "      <td>0.009881</td>\n",
       "      <td>0.022061</td>\n",
       "      <td>NaN</td>\n",
       "      <td>NaN</td>\n",
       "      <td>NaN</td>\n",
       "    </tr>\n",
       "    <tr>\n",
       "      <th>4</th>\n",
       "      <td>542</td>\n",
       "      <td>5</td>\n",
       "      <td>11.928</td>\n",
       "      <td>0.03616</td>\n",
       "      <td>447.813965</td>\n",
       "      <td>0.014085</td>\n",
       "      <td>0.033652</td>\n",
       "      <td>NaN</td>\n",
       "      <td>NaN</td>\n",
       "      <td>NaN</td>\n",
       "    </tr>\n",
       "  </tbody>\n",
       "</table>\n",
       "</div>"
      ],
      "text/plain": [
       "   TESTNUM  POINTNUM    TIME    POSIT       FORCE       EXT       CH5  CH6  \\\n",
       "0      542         1   8.470  0.02256  201.146011 -0.001444  0.007552  NaN   \n",
       "1      542         2   8.632  0.02330  206.599442  0.000302  0.007552  NaN   \n",
       "2      542         3  10.027  0.02846  287.512573  0.003044  0.018898  NaN   \n",
       "3      542         4  11.031  0.03232  365.380981  0.009881  0.022061  NaN   \n",
       "4      542         5  11.928  0.03616  447.813965  0.014085  0.033652  NaN   \n",
       "\n",
       "   CH7  CH8  \n",
       "0  NaN  NaN  \n",
       "1  NaN  NaN  \n",
       "2  NaN  NaN  \n",
       "3  NaN  NaN  \n",
       "4  NaN  NaN  "
      ]
     },
     "execution_count": 3,
     "metadata": {},
     "output_type": "execute_result"
    }
   ],
   "source": [
    "df_al = pd.read_excel('Al60601_raw_data.xls')\n",
    "df_al.head()"
   ]
  },
  {
   "cell_type": "code",
   "execution_count": 4,
   "metadata": {},
   "outputs": [
    {
     "name": "stdout",
     "output_type": "stream",
     "text": [
      "WARNING *** OLE2 inconsistency: SSCS size is 0 but SSAT size is non-zero\n"
     ]
    },
    {
     "data": {
      "text/html": [
       "<div>\n",
       "<style scoped>\n",
       "    .dataframe tbody tr th:only-of-type {\n",
       "        vertical-align: middle;\n",
       "    }\n",
       "\n",
       "    .dataframe tbody tr th {\n",
       "        vertical-align: top;\n",
       "    }\n",
       "\n",
       "    .dataframe thead th {\n",
       "        text-align: right;\n",
       "    }\n",
       "</style>\n",
       "<table border=\"1\" class=\"dataframe\">\n",
       "  <thead>\n",
       "    <tr style=\"text-align: right;\">\n",
       "      <th></th>\n",
       "      <th>TESTNUM</th>\n",
       "      <th>POINTNUM</th>\n",
       "      <th>TIME</th>\n",
       "      <th>POSIT</th>\n",
       "      <th>FORCE</th>\n",
       "      <th>EXT</th>\n",
       "      <th>CH5</th>\n",
       "      <th>CH6</th>\n",
       "      <th>CH7</th>\n",
       "      <th>CH8</th>\n",
       "    </tr>\n",
       "  </thead>\n",
       "  <tbody>\n",
       "    <tr>\n",
       "      <th>0</th>\n",
       "      <td>523</td>\n",
       "      <td>1</td>\n",
       "      <td>6.189</td>\n",
       "      <td>0.07302</td>\n",
       "      <td>202.924728</td>\n",
       "      <td>0.000402</td>\n",
       "      <td>-0.028272</td>\n",
       "      <td>NaN</td>\n",
       "      <td>NaN</td>\n",
       "      <td>NaN</td>\n",
       "    </tr>\n",
       "    <tr>\n",
       "      <th>1</th>\n",
       "      <td>523</td>\n",
       "      <td>2</td>\n",
       "      <td>6.549</td>\n",
       "      <td>0.07396</td>\n",
       "      <td>205.714890</td>\n",
       "      <td>-0.000238</td>\n",
       "      <td>-0.034549</td>\n",
       "      <td>NaN</td>\n",
       "      <td>NaN</td>\n",
       "      <td>NaN</td>\n",
       "    </tr>\n",
       "    <tr>\n",
       "      <th>2</th>\n",
       "      <td>523</td>\n",
       "      <td>3</td>\n",
       "      <td>7.148</td>\n",
       "      <td>0.07624</td>\n",
       "      <td>217.763336</td>\n",
       "      <td>-0.000713</td>\n",
       "      <td>-0.030140</td>\n",
       "      <td>NaN</td>\n",
       "      <td>NaN</td>\n",
       "      <td>NaN</td>\n",
       "    </tr>\n",
       "    <tr>\n",
       "      <th>3</th>\n",
       "      <td>523</td>\n",
       "      <td>4</td>\n",
       "      <td>9.146</td>\n",
       "      <td>0.08438</td>\n",
       "      <td>316.306122</td>\n",
       "      <td>0.002377</td>\n",
       "      <td>-0.025968</td>\n",
       "      <td>NaN</td>\n",
       "      <td>NaN</td>\n",
       "      <td>NaN</td>\n",
       "    </tr>\n",
       "    <tr>\n",
       "      <th>4</th>\n",
       "      <td>523</td>\n",
       "      <td>5</td>\n",
       "      <td>10.041</td>\n",
       "      <td>0.08822</td>\n",
       "      <td>417.003357</td>\n",
       "      <td>0.003089</td>\n",
       "      <td>-0.024100</td>\n",
       "      <td>NaN</td>\n",
       "      <td>NaN</td>\n",
       "      <td>NaN</td>\n",
       "    </tr>\n",
       "  </tbody>\n",
       "</table>\n",
       "</div>"
      ],
      "text/plain": [
       "   TESTNUM  POINTNUM    TIME    POSIT       FORCE       EXT       CH5  CH6  \\\n",
       "0      523         1   6.189  0.07302  202.924728  0.000402 -0.028272  NaN   \n",
       "1      523         2   6.549  0.07396  205.714890 -0.000238 -0.034549  NaN   \n",
       "2      523         3   7.148  0.07624  217.763336 -0.000713 -0.030140  NaN   \n",
       "3      523         4   9.146  0.08438  316.306122  0.002377 -0.025968  NaN   \n",
       "4      523         5  10.041  0.08822  417.003357  0.003089 -0.024100  NaN   \n",
       "\n",
       "   CH7  CH8  \n",
       "0  NaN  NaN  \n",
       "1  NaN  NaN  \n",
       "2  NaN  NaN  \n",
       "3  NaN  NaN  \n",
       "4  NaN  NaN  "
      ]
     },
     "execution_count": 4,
     "metadata": {},
     "output_type": "execute_result"
    }
   ],
   "source": [
    "df_steel = pd.read_excel('Steel1018_raw_data.xls')\n",
    "df_steel.head()"
   ]
  },
  {
   "cell_type": "markdown",
   "metadata": {},
   "source": [
    "We see a number of columns in each dataframe. The columns we are interested in are **FORCE**, **EXT**, and **CH5**. Below is a description of what these columns mean.\n",
    "\n",
    " * **FORCE** Force measurements from the load cell in pounds (lb), force in pounds\n",
    " * **EXT** Extension measurements from the mechanical extensometer in percent (%), strain in percent\n",
    " * **CH5** Extension readings from the laser extensometer in percent (%), strain in percent\n"
   ]
  },
  {
   "cell_type": "markdown",
   "metadata": {},
   "source": [
    "### Create variables for stress and strain\n",
    "\n",
    "Next we'll create a four Pandas series from the **CH5** and **FORCE** columns of our ```df_al``` and ```df_steel``` dataframes.\n",
    "\n",
    "The equations below show how to calculate stress, σ, and strain, ϵ, from force _F_ and cross-sectional area _A_. Cross-sectional area _A_ is the formula for the area of a circle. For the steel and aluminum samples we tested, the diameter _d_ was 0.506 in."
   ]
  },
  {
   "cell_type": "markdown",
   "metadata": {},
   "source": [
    "$$\n",
    "\\sigma = \\frac{F}{A_0}\n",
    "$$\n",
    "\n",
    "$$\n",
    "F \\ (kip) = F \\ (lb) \\times 0.001\n",
    "$$\n",
    "\n",
    "$$\n",
    "A_0 = \\pi (d/2)^2\n",
    "$$\n",
    "\n",
    "$$\n",
    "d = 0.506 \\ in\n",
    "$$\n",
    "\n",
    "$$\n",
    "\\epsilon \\ (unitless) = \\epsilon \\ (\\%) \\times 0.01\n",
    "$$"
   ]
  },
  {
   "cell_type": "markdown",
   "metadata": {},
   "source": [
    "Remember that exponents in Python use a double asterix ```**```."
   ]
  },
  {
   "cell_type": "code",
   "execution_count": 5,
   "metadata": {},
   "outputs": [],
   "source": [
    "d = 0.506\n",
    "r = d/2\n",
    "A = np.pi*r**2\n",
    "\n",
    "stress_al = (df_al['FORCE']/A)*0.001\n",
    "strain_al = df_al['CH5']*0.01\n",
    "\n",
    "stress_steel = (df_steel['FORCE']/A)*0.001\n",
    "strain_steel = df_steel['CH5']*0.01"
   ]
  },
  {
   "cell_type": "markdown",
   "metadata": {},
   "source": [
    "### Build a quick plot\n",
    "\n",
    "Now that we have the data from the tensile test in four series, we can build a quick plot using Matplotlib's ```ax.plot()``` method. The first x,y pair we pass to ```ax.plot()``` is ```strain_al```,```stress_al``` and the second x,y pair we pass in is ```strain_steel```,```stress_steel```. The command ```plt.show()``` shows the plot."
   ]
  },
  {
   "cell_type": "code",
   "execution_count": 6,
   "metadata": {},
   "outputs": [
    {
     "data": {
      "image/png": "[encoded data removed]",
      "text/plain": [
       "<Figure size 432x288 with 1 Axes>"
      ]
     },
     "metadata": {
      "needs_background": "light"
     },
     "output_type": "display_data"
    }
   ],
   "source": [
    "fig,ax = plt.subplots()\n",
    "\n",
    "ax.plot(strain_al, stress_al, strain_steel, stress_steel)\n",
    "\n",
    "plt.show()"
   ]
  },
  {
   "cell_type": "markdown",
   "metadata": {},
   "source": [
    "We see a plot with two lines. One line represents aluminum 6061 and one line represents steel 1018. We can improve our plot by adding axis labels with units, a title and a legend."
   ]
  },
  {
   "cell_type": "markdown",
   "metadata": {},
   "source": [
    "### Axis labels, title and a legend\n",
    "\n",
    "Axis labels, titles and a legend are added to our plot with three Matplotlib methods. The methods are summarized in the table below.\n",
    "\n",
    "| Matplotlib method | Description |\tExample |\n",
    "| --- | --- | --- |\n",
    "| ax.set_xlabel() | \tx-axis label |\tplt.xlabel('strain (in/in)') |\n",
    "| ax.set_ylabel() | \ty-axis label |\tplt.ylabel('stress (ksi)') |\n",
    "| ax.set_title() | \tplot title |\tplt.title('Stress Strain Curve') |\n",
    "| ax.legend() |\tlegend |\tplt.legend(['steel','aluminum']) |\n",
    "\n",
    "The code cell below shows these four methods in action and produces a plot."
   ]
  },
  {
   "cell_type": "code",
   "execution_count": 7,
   "metadata": {},
   "outputs": [
    {
     "data": {
      "image/png": "[encoded data removed]",
      "text/plain": [
       "<Figure size 432x288 with 1 Axes>"
      ]
     },
     "metadata": {
      "needs_background": "light"
     },
     "output_type": "display_data"
    }
   ],
   "source": [
    "fig,ax = plt.subplots()\n",
    "\n",
    "ax.plot(strain_al, stress_al)\n",
    "ax.plot(strain_steel, stress_steel)\n",
    "\n",
    "ax.set_xlabel('Strain (in/in)')\n",
    "ax.set_ylabel('Stress (ksi)')\n",
    "ax.set_title('Stress-Strain Curve of Al6061 and Steel1018 in Tension')\n",
    "ax.legend(['Al6061','Steel1018'])\n",
    "\n",
    "plt.show()"
   ]
  },
  {
   "cell_type": "markdown",
   "metadata": {},
   "source": [
    "### Save the plot as a .png image\n",
    "\n",
    "Now we can save the plot as a .png image using Matplotlib's ```plt.savefig()``` method. The code cell below builds the plot and saves an image file called stress-strain_curve.png. The argument ```dpi=300``` inside of Matplotlib's ```plt.savefig()``` method specifies the resolution of our saved image. The image ```stress-strain_curve.png``` will be saved in the same folder as our running Jupyter notebook.\n"
   ]
  },
  {
   "cell_type": "code",
   "execution_count": 8,
   "metadata": {},
   "outputs": [
    {
     "data": {
      "image/png": "[encoded data removed]",
      "text/plain": [
       "<Figure size 432x288 with 1 Axes>"
      ]
     },
     "metadata": {
      "needs_background": "light"
     },
     "output_type": "display_data"
    }
   ],
   "source": [
    "fig,ax = plt.subplots()\n",
    "\n",
    "ax.plot(strain_al, stress_al)\n",
    "ax.plot(strain_steel, stress_steel)\n",
    "\n",
    "ax.set_xlabel('Strain (in/in)')\n",
    "ax.set_ylabel('Stress (ksi)')\n",
    "ax.set_title('Stress-Strain Curve of Al6061 and Steel1018 in Tension')\n",
    "ax.legend(['Al6061','Steel1018'])\n",
    "\n",
    "plt.savefig('stress-strain_curve.png', dpi=300)\n",
    "plt.show()"
   ]
  },
  {
   "cell_type": "markdown",
   "metadata": {},
   "source": [
    "Our complete stress strain curve contains two lines, one for steel and one for aluminum. The plot has axis labels with units, a title and a legend. A copy of the plot is now saved as ```stress-strain_curve.png``` in the same folder as our Jupyter notebook."
   ]
  }
 ],
 "metadata": {
  "kernelspec": {
   "display_name": "Python 3",
   "language": "python",
   "name": "python3"
  },
  "language_info": {
   "codemirror_mode": {
    "name": "ipython",
    "version": 3
   },
   "file_extension": ".py",
   "mimetype": "text/x-python",
   "name": "python",
   "nbconvert_exporter": "python",
   "pygments_lexer": "ipython3",
   "version": "3.8.5"
  }
 },
 "nbformat": 4,
 "nbformat_minor": 2
}
