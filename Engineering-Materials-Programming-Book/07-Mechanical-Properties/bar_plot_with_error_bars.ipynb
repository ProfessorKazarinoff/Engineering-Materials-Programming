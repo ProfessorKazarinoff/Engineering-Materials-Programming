{
 "cells": [
  {
   "cell_type": "markdown",
   "metadata": {},
   "source": [
    "# Visuallizing Measurement Error"
   ]
  },
  {
   "cell_type": "markdown",
   "metadata": {},
   "source": [
    "Engineers collect data and make conclusions based on the results. An important way to view results is with statistical charts. In this exampe we will build a bar chart that compares the tensile strength of 3D-printed ABS plastic under different printing conditions.\n",
    "\n",
    "We will add error bars to the chart to show the amount of uncertainty in the data. For this plot, the hieght of the bars represent the mean or average of the measured tensile stength in the sample of data. The error bars on the plot will represent +1/-1 standard deviation about the mean."
   ]
  },
  {
   "cell_type": "markdown",
   "metadata": {},
   "source": [
    "The data we are going to plot is stored in an Microsoft Excel File. You can download the sample data here (clicking link will start the download):\n",
    "\n",
    "[3D-printed-tensile-bar-data.xlsx](https://github.com/ProfessorKazarinoff/staticsite/raw/master/content/code/matplotlib_plots/3D-printed_tensile_test_data.xlsx)\n",
    "\n",
    "We'll use **pandas** to load the data into the notebook. The **Anaconda** distribution of Python comes with the **pandas** library already installed. If **pandas** is not available, open a terminal or the **Anaconda Prompt** and type:\n",
    "\n",
    "```text\n",
    "pip install pandas\n",
    "```\n",
    "\n",
    "or \n",
    "\n",
    "```text\n",
    "conda install pandas\n",
    "\n",
    "```\n",
    "\n",
    "Note that when I first tried to run the ```pd.read_excel()``` function, I was returned an error:\n",
    "\n",
    "\n",
    "```python\n",
    "ImportError: Install xlrd >= 0.9.0 for Excel support\n",
    "````\n",
    "\n",
    "To solve this, I went to the **Anaconda Prompt** and typed:\n",
    "\n",
    "```\n",
    "conda install xlrd\n",
    "```\n",
    "\n",
    "Once the **xlrd** module was installed, the ```pd.read_excel()``` function worked just fine.\n",
    "\n",
    "To start the jupyter notebook, we need to import the required packages:\n",
    "\n",
    "**pandas**\n",
    "**numpy**\n",
    "**matplotlib**\n",
    "\n",
    "The ```%matplotlib inline``` magic command is add so that we can see our plots right in the **jupyter notebook**.\n"
   ]
  },
  {
   "cell_type": "code",
   "execution_count": 1,
   "metadata": {},
   "outputs": [],
   "source": [
    "import pandas as pd\n",
    "import numpy as np\n",
    "import matplotlib.pyplot as plt\n",
    "%matplotlib inline"
   ]
  },
  {
   "cell_type": "code",
   "execution_count": 2,
   "metadata": {},
   "outputs": [
    {
     "data": {
      "text/html": [
       "<div>\n",
       "<style scoped>\n",
       "    .dataframe tbody tr th:only-of-type {\n",
       "        vertical-align: middle;\n",
       "    }\n",
       "\n",
       "    .dataframe tbody tr th {\n",
       "        vertical-align: top;\n",
       "    }\n",
       "\n",
       "    .dataframe thead th {\n",
       "        text-align: right;\n",
       "    }\n",
       "</style>\n",
       "<table border=\"1\" class=\"dataframe\">\n",
       "  <thead>\n",
       "    <tr style=\"text-align: right;\">\n",
       "      <th></th>\n",
       "      <th>Material</th>\n",
       "      <th>Width (mm)</th>\n",
       "      <th>Thickness (mm)</th>\n",
       "      <th>Cross-sectional Area (mm^2)</th>\n",
       "      <th>Maximum Force (N)</th>\n",
       "      <th>Tensile Strength (Mpa)</th>\n",
       "    </tr>\n",
       "  </thead>\n",
       "  <tbody>\n",
       "    <tr>\n",
       "      <th>0</th>\n",
       "      <td>ABS</td>\n",
       "      <td>6.33</td>\n",
       "      <td>3.61</td>\n",
       "      <td>22.8513</td>\n",
       "      <td>426</td>\n",
       "      <td>18.642265</td>\n",
       "    </tr>\n",
       "    <tr>\n",
       "      <th>1</th>\n",
       "      <td>ABS</td>\n",
       "      <td>6.27</td>\n",
       "      <td>3.80</td>\n",
       "      <td>23.8260</td>\n",
       "      <td>514</td>\n",
       "      <td>21.573071</td>\n",
       "    </tr>\n",
       "    <tr>\n",
       "      <th>2</th>\n",
       "      <td>ABS</td>\n",
       "      <td>6.29</td>\n",
       "      <td>3.61</td>\n",
       "      <td>22.7069</td>\n",
       "      <td>499</td>\n",
       "      <td>21.975699</td>\n",
       "    </tr>\n",
       "    <tr>\n",
       "      <th>3</th>\n",
       "      <td>ABS</td>\n",
       "      <td>6.28</td>\n",
       "      <td>3.50</td>\n",
       "      <td>21.9800</td>\n",
       "      <td>461</td>\n",
       "      <td>20.973612</td>\n",
       "    </tr>\n",
       "    <tr>\n",
       "      <th>4</th>\n",
       "      <td>ABS</td>\n",
       "      <td>6.25</td>\n",
       "      <td>3.72</td>\n",
       "      <td>23.2500</td>\n",
       "      <td>418</td>\n",
       "      <td>17.978495</td>\n",
       "    </tr>\n",
       "  </tbody>\n",
       "</table>\n",
       "</div>"
      ],
      "text/plain": [
       "  Material  Width (mm)  Thickness (mm)  Cross-sectional Area (mm^2)  \\\n",
       "0      ABS        6.33            3.61                      22.8513   \n",
       "1      ABS        6.27            3.80                      23.8260   \n",
       "2      ABS        6.29            3.61                      22.7069   \n",
       "3      ABS        6.28            3.50                      21.9800   \n",
       "4      ABS        6.25            3.72                      23.2500   \n",
       "\n",
       "   Maximum Force (N)  Tensile Strength (Mpa)  \n",
       "0                426               18.642265  \n",
       "1                514               21.573071  \n",
       "2                499               21.975699  \n",
       "3                461               20.973612  \n",
       "4                418               17.978495  "
      ]
     },
     "execution_count": 2,
     "metadata": {},
     "output_type": "execute_result"
    }
   ],
   "source": [
    "data_url = 'https://github.com/ProfessorKazarinoff/staticsite/raw/master/content/code/matplotlib_plots/3D-printed_tensile_test_data.xlsx'\n",
    "df = pd.read_excel(data_url)\n",
    "df.head()"
   ]
  },
  {
   "cell_type": "markdown",
   "metadata": {},
   "source": [
    "**Pandas** has a nice little method to view the staticstics for column in our datafram called ```describe()```. We'll use the ```describe()``` method to get a look at our basic statistics. The tensile strength column is the one we are interested in. Note the ```describe()``` method needs to include the ```()``` parenthesis at the end. "
   ]
  },
  {
   "cell_type": "code",
   "execution_count": 3,
   "metadata": {},
   "outputs": [
    {
     "data": {
      "text/plain": [
       "count    36.000000\n",
       "mean     14.881000\n",
       "std       4.983496\n",
       "min       4.931429\n",
       "25%      10.695890\n",
       "50%      13.420756\n",
       "75%      19.429057\n",
       "max      23.825110\n",
       "Name: Tensile Strength (Mpa), dtype: float64"
      ]
     },
     "execution_count": 3,
     "metadata": {},
     "output_type": "execute_result"
    }
   ],
   "source": [
    "df['Tensile Strength (Mpa)'].describe()"
   ]
  },
  {
   "cell_type": "markdown",
   "metadata": {},
   "source": [
    "This gives us the mean for the whole tensile strength column, but we are intrested in comparing the two materials, ABS and HIPS. HIPS stands for High-Impact PolyStyrene and is a common 3-D printing fillament material like ABS and PLA. We need a way to only group the ABS data together and group the HIPS data seperatly. We can view the statistics for the rows that are ABS data and the rows that are HIPS data seperatly using **pandas** ```groupby``` method."
   ]
  },
  {
   "cell_type": "code",
   "execution_count": 4,
   "metadata": {},
   "outputs": [
    {
     "data": {
      "text/html": [
       "<div>\n",
       "<style scoped>\n",
       "    .dataframe tbody tr th:only-of-type {\n",
       "        vertical-align: middle;\n",
       "    }\n",
       "\n",
       "    .dataframe tbody tr th {\n",
       "        vertical-align: top;\n",
       "    }\n",
       "\n",
       "    .dataframe thead th {\n",
       "        text-align: right;\n",
       "    }\n",
       "</style>\n",
       "<table border=\"1\" class=\"dataframe\">\n",
       "  <thead>\n",
       "    <tr style=\"text-align: right;\">\n",
       "      <th></th>\n",
       "      <th>count</th>\n",
       "      <th>mean</th>\n",
       "      <th>std</th>\n",
       "      <th>min</th>\n",
       "      <th>25%</th>\n",
       "      <th>50%</th>\n",
       "      <th>75%</th>\n",
       "      <th>max</th>\n",
       "    </tr>\n",
       "    <tr>\n",
       "      <th>Material</th>\n",
       "      <th></th>\n",
       "      <th></th>\n",
       "      <th></th>\n",
       "      <th></th>\n",
       "      <th></th>\n",
       "      <th></th>\n",
       "      <th></th>\n",
       "      <th></th>\n",
       "    </tr>\n",
       "  </thead>\n",
       "  <tbody>\n",
       "    <tr>\n",
       "      <th>ABS</th>\n",
       "      <td>16.0</td>\n",
       "      <td>19.935392</td>\n",
       "      <td>1.796473</td>\n",
       "      <td>16.022111</td>\n",
       "      <td>19.166825</td>\n",
       "      <td>19.618907</td>\n",
       "      <td>20.978060</td>\n",
       "      <td>23.825110</td>\n",
       "    </tr>\n",
       "    <tr>\n",
       "      <th>HIPS</th>\n",
       "      <td>20.0</td>\n",
       "      <td>10.837486</td>\n",
       "      <td>2.116019</td>\n",
       "      <td>4.931429</td>\n",
       "      <td>10.182108</td>\n",
       "      <td>10.762229</td>\n",
       "      <td>11.982909</td>\n",
       "      <td>14.759169</td>\n",
       "    </tr>\n",
       "  </tbody>\n",
       "</table>\n",
       "</div>"
      ],
      "text/plain": [
       "          count       mean       std        min        25%        50%  \\\n",
       "Material                                                                \n",
       "ABS        16.0  19.935392  1.796473  16.022111  19.166825  19.618907   \n",
       "HIPS       20.0  10.837486  2.116019   4.931429  10.182108  10.762229   \n",
       "\n",
       "                75%        max  \n",
       "Material                        \n",
       "ABS       20.978060  23.825110  \n",
       "HIPS      11.982909  14.759169  "
      ]
     },
     "execution_count": 4,
     "metadata": {},
     "output_type": "execute_result"
    }
   ],
   "source": [
    "df['Tensile Strength (Mpa)'].groupby(df['Material']).describe()"
   ]
  },
  {
   "cell_type": "code",
   "execution_count": 5,
   "metadata": {},
   "outputs": [],
   "source": [
    "ABS_df = df[df['Material'] == 'ABS']\n",
    "HIPS_df = df[df['Material'] == 'HIPS']"
   ]
  },
  {
   "cell_type": "markdown",
   "metadata": {},
   "source": [
    "Let's save the ```mean``` (the average) and the ```std``` (standard deviation) to new variables"
   ]
  },
  {
   "cell_type": "code",
   "execution_count": 6,
   "metadata": {},
   "outputs": [],
   "source": [
    "ABS_mean = ABS_df['Tensile Strength (Mpa)'].mean()\n",
    "ABS_stdev = ABS_df['Tensile Strength (Mpa)'].std()\n",
    "\n",
    "HIPS_mean = HIPS_df['Tensile Strength (Mpa)'].mean()\n",
    "HIPS_stdev = HIPS_df['Tensile Strength (Mpa)'].std()"
   ]
  },
  {
   "cell_type": "markdown",
   "metadata": {},
   "source": [
    "Time to fire up the plot. We will build a plot using **matplotlib**.  \n",
    "\n",
    "We'll use **matplotlibs** ```plt.bar``` method to build the plot. "
   ]
  },
  {
   "cell_type": "code",
   "execution_count": 7,
   "metadata": {},
   "outputs": [
    {
     "data": {
      "image/png": "[encoded data removed]",
      "text/plain": [
       "<Figure size 432x288 with 1 Axes>"
      ]
     },
     "metadata": {
      "needs_background": "light"
     },
     "output_type": "display_data"
    }
   ],
   "source": [
    "plt.bar(['ABS', 'HIPS'], [ABS_mean, HIPS_mean], yerr=[ABS_stdev, HIPS_stdev], capsize=10)\n",
    "plt.ylabel('Tensile Strength (MPa)')\n",
    "plt.title('Tensile Strength of 3-D Printed ABS Tensile Bars')\n",
    "plt.savefig('ABS_HIPS_plot_with_error_bars.png', dpi=300, bbox_inches='tight')\n",
    "plt.show()"
   ]
  }
 ],
 "metadata": {
  "kernelspec": {
   "display_name": "Python 3",
   "language": "python",
   "name": "python3"
  },
  "language_info": {
   "codemirror_mode": {
    "name": "ipython",
    "version": 3
   },
   "file_extension": ".py",
   "mimetype": "text/x-python",
   "name": "python",
   "nbconvert_exporter": "python",
   "pygments_lexer": "ipython3",
   "version": "3.7.6"
  }
 },
 "nbformat": 4,
 "nbformat_minor": 2
}
