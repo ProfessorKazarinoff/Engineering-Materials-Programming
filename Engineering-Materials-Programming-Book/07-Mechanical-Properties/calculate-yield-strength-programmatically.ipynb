{
 "cells": [
  {
   "cell_type": "markdown",
   "metadata": {},
   "source": [
    "## Calculate Yield Strength Programmatically"
   ]
  },
  {
   "cell_type": "code",
   "execution_count": 1,
   "metadata": {},
   "outputs": [],
   "source": [
    "# imports\n",
    "import numpy as np\n",
    "import pandas as pd\n",
    "import matplotlib.pyplot as plt\n",
    "from scipy.stats import linregress\n",
    "%matplotlib inline"
   ]
  },
  {
   "cell_type": "code",
   "execution_count": 2,
   "metadata": {},
   "outputs": [
    {
     "name": "stdout",
     "output_type": "stream",
     "text": [
      "\u001b[0m\u001b[01;35mABS_HIPS_plot_with_error_bars.png\u001b[0m\r\n",
      "Al60601_raw_data.xls\r\n",
      "bar_plot_with_error_bars.ipynb\r\n",
      "calculate-yield-strength-programmatically.ipynb\r\n",
      "\u001b[01;34mimages\u001b[0m/\r\n",
      "mechanical-properties-from-stress-strain-curves.ipynb\r\n",
      "mechanical-properties-intro.md\r\n",
      "plotting-stress-strain-curves.ipynb\r\n",
      "Steel1018_raw_data.xls\r\n",
      "\u001b[01;35mstress-strain_curve.png\u001b[0m\r\n",
      "stress_strain_curve_with_inset_elastic_region.ipynb\r\n",
      "\u001b[01;35mstress_strain_curve_with_inset.png\u001b[0m\r\n"
     ]
    }
   ],
   "source": [
    "%ls"
   ]
  },
  {
   "cell_type": "code",
   "execution_count": 3,
   "metadata": {},
   "outputs": [
    {
     "name": "stdout",
     "output_type": "stream",
     "text": [
      "WARNING *** OLE2 inconsistency: SSCS size is 0 but SSAT size is non-zero\n"
     ]
    },
    {
     "data": {
      "text/html": [
       "<div>\n",
       "<style scoped>\n",
       "    .dataframe tbody tr th:only-of-type {\n",
       "        vertical-align: middle;\n",
       "    }\n",
       "\n",
       "    .dataframe tbody tr th {\n",
       "        vertical-align: top;\n",
       "    }\n",
       "\n",
       "    .dataframe thead th {\n",
       "        text-align: right;\n",
       "    }\n",
       "</style>\n",
       "<table border=\"1\" class=\"dataframe\">\n",
       "  <thead>\n",
       "    <tr style=\"text-align: right;\">\n",
       "      <th></th>\n",
       "      <th>TESTNUM</th>\n",
       "      <th>POINTNUM</th>\n",
       "      <th>TIME</th>\n",
       "      <th>POSIT</th>\n",
       "      <th>FORCE</th>\n",
       "      <th>EXT</th>\n",
       "      <th>CH5</th>\n",
       "      <th>CH6</th>\n",
       "      <th>CH7</th>\n",
       "      <th>CH8</th>\n",
       "    </tr>\n",
       "  </thead>\n",
       "  <tbody>\n",
       "    <tr>\n",
       "      <th>0</th>\n",
       "      <td>542</td>\n",
       "      <td>1</td>\n",
       "      <td>8.470</td>\n",
       "      <td>0.02256</td>\n",
       "      <td>201.146011</td>\n",
       "      <td>-0.001444</td>\n",
       "      <td>0.007552</td>\n",
       "      <td>NaN</td>\n",
       "      <td>NaN</td>\n",
       "      <td>NaN</td>\n",
       "    </tr>\n",
       "    <tr>\n",
       "      <th>1</th>\n",
       "      <td>542</td>\n",
       "      <td>2</td>\n",
       "      <td>8.632</td>\n",
       "      <td>0.02330</td>\n",
       "      <td>206.599442</td>\n",
       "      <td>0.000302</td>\n",
       "      <td>0.007552</td>\n",
       "      <td>NaN</td>\n",
       "      <td>NaN</td>\n",
       "      <td>NaN</td>\n",
       "    </tr>\n",
       "    <tr>\n",
       "      <th>2</th>\n",
       "      <td>542</td>\n",
       "      <td>3</td>\n",
       "      <td>10.027</td>\n",
       "      <td>0.02846</td>\n",
       "      <td>287.512573</td>\n",
       "      <td>0.003044</td>\n",
       "      <td>0.018898</td>\n",
       "      <td>NaN</td>\n",
       "      <td>NaN</td>\n",
       "      <td>NaN</td>\n",
       "    </tr>\n",
       "    <tr>\n",
       "      <th>3</th>\n",
       "      <td>542</td>\n",
       "      <td>4</td>\n",
       "      <td>11.031</td>\n",
       "      <td>0.03232</td>\n",
       "      <td>365.380981</td>\n",
       "      <td>0.009881</td>\n",
       "      <td>0.022061</td>\n",
       "      <td>NaN</td>\n",
       "      <td>NaN</td>\n",
       "      <td>NaN</td>\n",
       "    </tr>\n",
       "    <tr>\n",
       "      <th>4</th>\n",
       "      <td>542</td>\n",
       "      <td>5</td>\n",
       "      <td>11.928</td>\n",
       "      <td>0.03616</td>\n",
       "      <td>447.813965</td>\n",
       "      <td>0.014085</td>\n",
       "      <td>0.033652</td>\n",
       "      <td>NaN</td>\n",
       "      <td>NaN</td>\n",
       "      <td>NaN</td>\n",
       "    </tr>\n",
       "  </tbody>\n",
       "</table>\n",
       "</div>"
      ],
      "text/plain": [
       "   TESTNUM  POINTNUM    TIME    POSIT       FORCE       EXT       CH5  CH6  \\\n",
       "0      542         1   8.470  0.02256  201.146011 -0.001444  0.007552  NaN   \n",
       "1      542         2   8.632  0.02330  206.599442  0.000302  0.007552  NaN   \n",
       "2      542         3  10.027  0.02846  287.512573  0.003044  0.018898  NaN   \n",
       "3      542         4  11.031  0.03232  365.380981  0.009881  0.022061  NaN   \n",
       "4      542         5  11.928  0.03616  447.813965  0.014085  0.033652  NaN   \n",
       "\n",
       "   CH7  CH8  \n",
       "0  NaN  NaN  \n",
       "1  NaN  NaN  \n",
       "2  NaN  NaN  \n",
       "3  NaN  NaN  \n",
       "4  NaN  NaN  "
      ]
     },
     "execution_count": 3,
     "metadata": {},
     "output_type": "execute_result"
    }
   ],
   "source": [
    "df_al = pd.read_excel('Al60601_raw_data.xls')\n",
    "df_al.head()"
   ]
  },
  {
   "cell_type": "code",
   "execution_count": 4,
   "metadata": {},
   "outputs": [
    {
     "name": "stdout",
     "output_type": "stream",
     "text": [
      "WARNING *** OLE2 inconsistency: SSCS size is 0 but SSAT size is non-zero\n"
     ]
    },
    {
     "data": {
      "text/html": [
       "<div>\n",
       "<style scoped>\n",
       "    .dataframe tbody tr th:only-of-type {\n",
       "        vertical-align: middle;\n",
       "    }\n",
       "\n",
       "    .dataframe tbody tr th {\n",
       "        vertical-align: top;\n",
       "    }\n",
       "\n",
       "    .dataframe thead th {\n",
       "        text-align: right;\n",
       "    }\n",
       "</style>\n",
       "<table border=\"1\" class=\"dataframe\">\n",
       "  <thead>\n",
       "    <tr style=\"text-align: right;\">\n",
       "      <th></th>\n",
       "      <th>TESTNUM</th>\n",
       "      <th>POINTNUM</th>\n",
       "      <th>TIME</th>\n",
       "      <th>POSIT</th>\n",
       "      <th>FORCE</th>\n",
       "      <th>EXT</th>\n",
       "      <th>CH5</th>\n",
       "      <th>CH6</th>\n",
       "      <th>CH7</th>\n",
       "      <th>CH8</th>\n",
       "    </tr>\n",
       "  </thead>\n",
       "  <tbody>\n",
       "    <tr>\n",
       "      <th>0</th>\n",
       "      <td>523</td>\n",
       "      <td>1</td>\n",
       "      <td>6.189</td>\n",
       "      <td>0.07302</td>\n",
       "      <td>202.924728</td>\n",
       "      <td>0.000402</td>\n",
       "      <td>-0.028272</td>\n",
       "      <td>NaN</td>\n",
       "      <td>NaN</td>\n",
       "      <td>NaN</td>\n",
       "    </tr>\n",
       "    <tr>\n",
       "      <th>1</th>\n",
       "      <td>523</td>\n",
       "      <td>2</td>\n",
       "      <td>6.549</td>\n",
       "      <td>0.07396</td>\n",
       "      <td>205.714890</td>\n",
       "      <td>-0.000238</td>\n",
       "      <td>-0.034549</td>\n",
       "      <td>NaN</td>\n",
       "      <td>NaN</td>\n",
       "      <td>NaN</td>\n",
       "    </tr>\n",
       "    <tr>\n",
       "      <th>2</th>\n",
       "      <td>523</td>\n",
       "      <td>3</td>\n",
       "      <td>7.148</td>\n",
       "      <td>0.07624</td>\n",
       "      <td>217.763336</td>\n",
       "      <td>-0.000713</td>\n",
       "      <td>-0.030140</td>\n",
       "      <td>NaN</td>\n",
       "      <td>NaN</td>\n",
       "      <td>NaN</td>\n",
       "    </tr>\n",
       "    <tr>\n",
       "      <th>3</th>\n",
       "      <td>523</td>\n",
       "      <td>4</td>\n",
       "      <td>9.146</td>\n",
       "      <td>0.08438</td>\n",
       "      <td>316.306122</td>\n",
       "      <td>0.002377</td>\n",
       "      <td>-0.025968</td>\n",
       "      <td>NaN</td>\n",
       "      <td>NaN</td>\n",
       "      <td>NaN</td>\n",
       "    </tr>\n",
       "    <tr>\n",
       "      <th>4</th>\n",
       "      <td>523</td>\n",
       "      <td>5</td>\n",
       "      <td>10.041</td>\n",
       "      <td>0.08822</td>\n",
       "      <td>417.003357</td>\n",
       "      <td>0.003089</td>\n",
       "      <td>-0.024100</td>\n",
       "      <td>NaN</td>\n",
       "      <td>NaN</td>\n",
       "      <td>NaN</td>\n",
       "    </tr>\n",
       "  </tbody>\n",
       "</table>\n",
       "</div>"
      ],
      "text/plain": [
       "   TESTNUM  POINTNUM    TIME    POSIT       FORCE       EXT       CH5  CH6  \\\n",
       "0      523         1   6.189  0.07302  202.924728  0.000402 -0.028272  NaN   \n",
       "1      523         2   6.549  0.07396  205.714890 -0.000238 -0.034549  NaN   \n",
       "2      523         3   7.148  0.07624  217.763336 -0.000713 -0.030140  NaN   \n",
       "3      523         4   9.146  0.08438  316.306122  0.002377 -0.025968  NaN   \n",
       "4      523         5  10.041  0.08822  417.003357  0.003089 -0.024100  NaN   \n",
       "\n",
       "   CH7  CH8  \n",
       "0  NaN  NaN  \n",
       "1  NaN  NaN  \n",
       "2  NaN  NaN  \n",
       "3  NaN  NaN  \n",
       "4  NaN  NaN  "
      ]
     },
     "execution_count": 4,
     "metadata": {},
     "output_type": "execute_result"
    }
   ],
   "source": [
    "df_steel = pd.read_excel('Steel1018_raw_data.xls')\n",
    "df_steel.head()"
   ]
  },
  {
   "cell_type": "code",
   "execution_count": 5,
   "metadata": {},
   "outputs": [],
   "source": [
    "d = 0.506\n",
    "r = d/2\n",
    "A = np.pi*r**2\n",
    "\n",
    "stress_al = (df_al['FORCE']/A)*0.001\n",
    "strain_al = df_al['CH5']*0.01\n",
    "\n",
    "stress_steel = (df_steel['FORCE']/A)*0.001\n",
    "strain_steel = df_steel['CH5']*0.01"
   ]
  },
  {
   "cell_type": "markdown",
   "metadata": {},
   "source": [
    "### Plot the full stress strain curve"
   ]
  },
  {
   "cell_type": "code",
   "execution_count": 6,
   "metadata": {},
   "outputs": [
    {
     "data": {
      "image/png": "[encoded data removed]",
      "text/plain": [
       "<Figure size 432x288 with 1 Axes>"
      ]
     },
     "metadata": {
      "needs_background": "light"
     },
     "output_type": "display_data"
    }
   ],
   "source": [
    "fig,ax = plt.subplots()\n",
    "ax.plot(strain_al, stress_al)\n",
    "ax.plot(strain_steel, stress_steel)\n",
    "ax.set_xlabel('Strain (in/in)')\n",
    "ax.set_ylabel('Stress (ksi)')\n",
    "ax.set_title('Stress-Strain Curve of Al6061 and Steel1018 in Tension')\n",
    "ax.legend(['Al6061','Steel1018'])\n",
    "\n",
    "plt.show()"
   ]
  },
  {
   "cell_type": "markdown",
   "metadata": {},
   "source": [
    "### Caclulate elastic modulus"
   ]
  },
  {
   "cell_type": "code",
   "execution_count": 7,
   "metadata": {},
   "outputs": [
    {
     "data": {
      "image/png": "[encoded data removed]",
      "text/plain": [
       "<Figure size 432x288 with 1 Axes>"
      ]
     },
     "metadata": {
      "needs_background": "light"
     },
     "output_type": "display_data"
    }
   ],
   "source": [
    "fig,ax = plt.subplots()\n",
    "ax.plot(strain_al, stress_al)\n",
    "ax.plot(strain_steel, stress_steel)\n",
    "\n",
    "ax.set_title('Inset of elastic region')\n",
    "ax.set_xlabel('Strain (in/in)')\n",
    "ax.set_ylabel('Stress (ksi)')\n",
    "ax.legend(['Al6061','Steel1018'])\n",
    "\n",
    "ax.set_xlim([0,0.01])\n",
    "ax.set_ylim([0,70])\n",
    "\n",
    "plt.show()"
   ]
  },
  {
   "cell_type": "code",
   "execution_count": 8,
   "metadata": {},
   "outputs": [
    {
     "name": "stdout",
     "output_type": "stream",
     "text": [
      "The elastic modulus of Al6061 is 9909.4 ksi\n"
     ]
    }
   ],
   "source": [
    "# Find the elastic modulus of Al6061\n",
    "# use stress and strain values from stress=0 to stress=35 ksi\n",
    "linear_stress_al_mask = stress_al < 35\n",
    "linear_stress_al = stress_al[linear_stress_al_mask]\n",
    "linear_strain_al = strain_al[linear_stress_al_mask]\n",
    "\n",
    "linear_regression_output = linregress(linear_strain_al, linear_stress_al)\n",
    "E_al = linear_regression_output[0]\n",
    "\n",
    "print(f'The elastic modulus of Al6061 is {round(E_al,1)} ksi')"
   ]
  },
  {
   "cell_type": "code",
   "execution_count": 9,
   "metadata": {},
   "outputs": [
    {
     "name": "stdout",
     "output_type": "stream",
     "text": [
      "The elastic modulus of Steel1018 is 40125.4 ksi\n"
     ]
    }
   ],
   "source": [
    "# Find the elastic modulus of Steel1018\n",
    "# use stress and strain values from stress=0 to stress=55 ksi\n",
    "linear_stress_steel_mask = stress_steel < 55\n",
    "linear_stress_steel = stress_steel[linear_stress_steel_mask]\n",
    "linear_strain_steel = strain_steel[linear_stress_steel_mask]\n",
    "\n",
    "linear_regression_output_steel = linregress(linear_strain_steel, linear_stress_steel)\n",
    "E_steel = linear_regression_output_steel[0]\n",
    "\n",
    "print(f'The elastic modulus of Steel1018 is {round(E_steel,1)} ksi')"
   ]
  },
  {
   "cell_type": "markdown",
   "metadata": {},
   "source": [
    "### Cacluate Yield Strength"
   ]
  },
  {
   "cell_type": "markdown",
   "metadata": {},
   "source": [
    "The yield strength of a metal is calculated from a stress strain curve by drawing a line parallel to the elastic modulus that goes through the point strain=0.002. Where that line crosses the stress strain curve, that amount of stress is the yield strength\n",
    "\n",
    "Point-Slope Formula for a line:\n",
    "\n",
    "$$ y - y_1 = m(x-x_1) $$\n",
    "\n",
    "Where $m=$ slope in the linear elastic region (elastic modulus, E), $x_1=0.002$, and $y_1 = 0$\n",
    "\n",
    "Rewrite the equation, where $y=stress_{offset}$ and the elastic modulus and value of $x_1$ and $y_1$ are included.\n",
    "\n",
    "$$ stress_{offset} = E(strain-0.002) $$"
   ]
  },
  {
   "cell_type": "code",
   "execution_count": 10,
   "metadata": {},
   "outputs": [
    {
     "data": {
      "image/png": "[encoded data removed]",
      "text/plain": [
       "<Figure size 432x288 with 1 Axes>"
      ]
     },
     "metadata": {
      "needs_background": "light"
     },
     "output_type": "display_data"
    }
   ],
   "source": [
    "# calculate the yield strength of Al6061\n",
    "stress_offset_al = E_al*(strain_al-0.002)\n",
    "\n",
    "fig, ax = plt.subplots()\n",
    "\n",
    "ax.plot(strain_al,stress_al,strain_al,stress_offset_al)\n",
    "ax.set_ylim([0,70])\n",
    "ax.set_xlim([0,0.01])\n",
    "\n",
    "plt.show()"
   ]
  },
  {
   "cell_type": "code",
   "execution_count": 11,
   "metadata": {},
   "outputs": [
    {
     "name": "stdout",
     "output_type": "stream",
     "text": [
      "The yield strength of Al6061 is 41.4 ksi\n"
     ]
    }
   ],
   "source": [
    "YS_al = 41.3653 # by zooming into the plot that contains the stress strain curve of Al6061 and the offset stress\n",
    "print(f'The yield strength of Al6061 is {round(YS_al,1)} ksi')"
   ]
  },
  {
   "cell_type": "code",
   "execution_count": 12,
   "metadata": {},
   "outputs": [
    {
     "data": {
      "image/png": "[encoded data removed]",
      "text/plain": [
       "<Figure size 432x288 with 1 Axes>"
      ]
     },
     "metadata": {
      "needs_background": "light"
     },
     "output_type": "display_data"
    }
   ],
   "source": [
    "# Calculate the yield strength of Steel1018\n",
    "stress_offset_steel = E_steel*(strain_steel-0.002)\n",
    "\n",
    "fig, ax = plt.subplots()\n",
    "\n",
    "ax.plot(strain_steel,stress_steel,strain_steel,stress_offset_steel)\n",
    "ax.set_ylim([0,70])\n",
    "ax.set_xlim([0,0.01])\n",
    "\n",
    "plt.show()"
   ]
  },
  {
   "cell_type": "code",
   "execution_count": 13,
   "metadata": {},
   "outputs": [
    {
     "name": "stdout",
     "output_type": "stream",
     "text": [
      "the yield strength of steel1018 is 57.4 ksi\n"
     ]
    }
   ],
   "source": [
    "YS_steel = 57.4495 # by zooming into a plot showing the stress strain curve of steel1018 and the offset stress\n",
    "print(f'the yield strength of steel1018 is {round(YS_steel,1)} ksi')"
   ]
  },
  {
   "cell_type": "markdown",
   "metadata": {},
   "source": [
    "### Calculate yield strength programatically"
   ]
  },
  {
   "cell_type": "code",
   "execution_count": 14,
   "metadata": {},
   "outputs": [
    {
     "data": {
      "image/png": "[encoded data removed]",
      "text/plain": [
       "<Figure size 432x288 with 1 Axes>"
      ]
     },
     "metadata": {
      "needs_background": "light"
     },
     "output_type": "display_data"
    }
   ],
   "source": [
    "f = np.array(stress_al)\n",
    "g = np.array(stress_offset_al)\n",
    "yield_stress_index = np.argwhere(np.diff(np.sign(f - g)))[0][0]\n",
    "yield_strength_al = stress_al[yield_stress_index]\n",
    "\n",
    "fig, ax = plt.subplots()\n",
    "\n",
    "ax.plot(strain_al,stress_al, \"*\")\n",
    "ax.plot(strain_al, stress_offset_al, \".\" )\n",
    "ax.plot(strain_al[yield_stress_index],yield_strength_al,'go')\n",
    "\n",
    "ax.set_ylim([0,50])\n",
    "ax.set_xlim([0,0.01])\n",
    "\n",
    "plt.show()"
   ]
  },
  {
   "cell_type": "code",
   "execution_count": 15,
   "metadata": {},
   "outputs": [
    {
     "name": "stdout",
     "output_type": "stream",
     "text": [
      "The yield strength of Al6061 found programatically is 41.3 ksi\n"
     ]
    }
   ],
   "source": [
    "print(f'The yield strength of Al6061 found programatically is {round(yield_strength_al,1)} ksi')"
   ]
  },
  {
   "cell_type": "code",
   "execution_count": 16,
   "metadata": {},
   "outputs": [
    {
     "data": {
      "image/png": "[encoded data removed]",
      "text/plain": [
       "<Figure size 432x288 with 1 Axes>"
      ]
     },
     "metadata": {
      "needs_background": "light"
     },
     "output_type": "display_data"
    }
   ],
   "source": [
    "# Find the yield strength of steel programatically\n",
    "\n",
    "f = np.array(stress_steel)\n",
    "g = np.array(stress_offset_steel)\n",
    "\n",
    "yield_strength_steel_index = np.argwhere(np.diff(np.sign(f - g)))[0][0]\n",
    "yield_strength_steel = stress_steel[yield_strength_steel_index]\n",
    "\n",
    "fig, ax = plt.subplots()\n",
    "\n",
    "ax.plot(strain_steel,stress_steel)\n",
    "ax.plot(strain_steel,stress_offset_steel)\n",
    "ax.plot(strain_steel[yield_strength_steel_index],yield_strength_steel,'go')\n",
    "\n",
    "ax.set_ylim([0,70])\n",
    "ax.set_xlim([0,0.01])\n",
    "\n",
    "\n",
    "plt.show()"
   ]
  },
  {
   "cell_type": "code",
   "execution_count": 17,
   "metadata": {},
   "outputs": [
    {
     "name": "stdout",
     "output_type": "stream",
     "text": [
      "The yield strength of Steel1018 found programatically is 57.6 ksi\n"
     ]
    }
   ],
   "source": [
    "print(f'The yield strength of Steel1018 found programatically is {round(yield_strength_steel,1)} ksi')"
   ]
  },
  {
   "cell_type": "markdown",
   "metadata": {},
   "source": [
    "### Write a function to calculate the intersection of two lines"
   ]
  },
  {
   "cell_type": "code",
   "execution_count": 18,
   "metadata": {},
   "outputs": [],
   "source": [
    "# write a function to calculate the intersection of two lines defined by 4 points\n",
    "\n",
    "def intersection_point(Ax1, Ay1, Ax2, Ay2, Bx1, By1, Bx2, By2):\n",
    "    d = (By2-By1)*(Ax2-Ax1)-(Bx2-Bx1)*(Ay2-Ay1)\n",
    "    if d:\n",
    "        uA = ((Bx2-Bx1)*(Ay1-By1)-(By2-By1)*(Ax1-Bx1))/d\n",
    "        uB = ((Ax2-Ax1)*(Ay1-By1)-(Ay2-Ay1)*(Ax1-Bx1))/d\n",
    "    else:\n",
    "        return None\n",
    "    if not(0 <= uA <= 1 and 0 <= uB <= 1):\n",
    "        return None\n",
    "    x = Ax1 + uA * (Ax2 - Ax1)\n",
    "    y = Ay1 + uA * (Ay2 - Ay1)\n",
    "    \n",
    "    return x, y"
   ]
  },
  {
   "cell_type": "code",
   "execution_count": 19,
   "metadata": {},
   "outputs": [],
   "source": [
    "strain_steel_array = np.array(strain_steel)\n",
    "stress_steel_array = np.array(stress_steel)\n",
    "strain_al_array = np.array(strain_al)\n",
    "stress_al_array = np.array(stress_al)"
   ]
  },
  {
   "cell_type": "markdown",
   "metadata": {},
   "source": [
    "### Caclulate yield strength using the intersection function"
   ]
  },
  {
   "cell_type": "code",
   "execution_count": 20,
   "metadata": {},
   "outputs": [
    {
     "name": "stdout",
     "output_type": "stream",
     "text": [
      "0.0034317318641272137 57.448780022628426\n"
     ]
    }
   ],
   "source": [
    "first = yield_strength_steel_index\n",
    "second = first + 1\n",
    "# A points from the stress strain curve\n",
    "Ax1 = strain_steel_array[first]\n",
    "Ay1 = stress_steel_array[first]\n",
    "Ax2 = strain_steel_array[second]\n",
    "Ay2 = stress_steel_array[second]\n",
    "# B points from the offset line\n",
    "Bx1 = strain_steel_array[first]\n",
    "By1 = stress_offset_steel[first]\n",
    "Bx2 = strain_steel_array[second]\n",
    "By2 = stress_offset_steel[second]\n",
    "\n",
    "# run our function that finds the intersection point\n",
    "x, y = intersection_point(Ax1,Ay1,Ax2,Ay2,Bx1,By1,Bx2,By2)\n",
    "\n",
    "print(x,y)"
   ]
  },
  {
   "cell_type": "code",
   "execution_count": 21,
   "metadata": {},
   "outputs": [
    {
     "data": {
      "image/png": "[encoded data removed]",
      "text/plain": [
       "<Figure size 432x288 with 1 Axes>"
      ]
     },
     "metadata": {
      "needs_background": "light"
     },
     "output_type": "display_data"
    }
   ],
   "source": [
    "fig,ax = plt.subplots()\n",
    "\n",
    "\n",
    "ax.plot(strain_steel_array,stress_steel_array)\n",
    "ax.plot(strain_steel_array,stress_offset_steel)\n",
    "ax.plot(x,y,'go')\n",
    "\n",
    "ax.set_ylim([0,70])\n",
    "ax.set_xlim([0,0.01])\n",
    "\n",
    "plt.show()"
   ]
  },
  {
   "cell_type": "code",
   "execution_count": 22,
   "metadata": {},
   "outputs": [
    {
     "name": "stdout",
     "output_type": "stream",
     "text": [
      "The yield strength of Steel1018 calculated programmatically is 57.4 ksi\n"
     ]
    }
   ],
   "source": [
    "print(f'The yield strength of Steel1018 calculated programmatically is {round(y,1)} ksi')"
   ]
  }
 ],
 "metadata": {
  "kernelspec": {
   "display_name": "Python 3",
   "language": "python",
   "name": "python3"
  },
  "language_info": {
   "codemirror_mode": {
    "name": "ipython",
    "version": 3
   },
   "file_extension": ".py",
   "mimetype": "text/x-python",
   "name": "python",
   "nbconvert_exporter": "python",
   "pygments_lexer": "ipython3",
   "version": "3.8.5"
  }
 },
 "nbformat": 4,
 "nbformat_minor": 2
}
