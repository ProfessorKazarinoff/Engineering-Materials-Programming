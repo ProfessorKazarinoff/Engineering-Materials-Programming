{
 "cells": [
  {
   "cell_type": "markdown",
   "metadata": {},
   "source": [
    "# Packing Factor"
   ]
  },
  {
   "cell_type": "markdown",
   "metadata": {},
   "source": [
    "Each crystal structure has a property called _packing factor_. The packing factor, or 3D denisty, is the ratio of atom volume in a unit cell to the volume of the unit cell.\n",
    "\n",
    "Crystal structures with high packing factors are tightly packed. Crystal structures with low packing factors are loosely packed."
   ]
  },
  {
   "cell_type": "markdown",
   "metadata": {},
   "source": [
    "The equation for packing factor is below:\n",
    "\n",
    "$$ PF = \\frac{V_{atoms}}{V_{unit \\ cell}} $$"
   ]
  },
  {
   "cell_type": "markdown",
   "metadata": {},
   "source": [
    "Given the volume of one atom, we can set the volume of all of the atoms in a unit cell as the product of the volume of 1 atom times the number of atoms per unit cell.\n",
    "\n",
    "$$ PF = \\frac{n_{atoms}V_{1 \\ atom}}{V_{unit \\ cell}} $$"
   ]
  },
  {
   "cell_type": "markdown",
   "metadata": {},
   "source": [
    "For cubic unit cells, the volume of the unit cell is the width (also length and height) of the unit cell cubed. The width of a cubic unit cell is donoted as $a_0$\n",
    "\n",
    "$$ V_{unit \\  cell} = {a_0}^3 $$"
   ]
  },
  {
   "cell_type": "markdown",
   "metadata": {},
   "source": [
    "We can cacluate the volume of 1 atom using the radius of one atom. Assuming that an atom is a sphere, the volume of the atom in terms of the radius is the volume of a sphere in terms of the the radius.\n",
    "\n",
    "$$ V_{1 \\ atom} = \\frac{4}{3}\\pi r^3 $$ "
   ]
  },
  {
   "cell_type": "markdown",
   "metadata": {},
   "source": [
    "Plugging the volume of the unit cell and the volume of an atom into our equation for packing factor:\n",
    "\n",
    "$$ PF = \\frac{n_{atoms} \\frac{4}{3}\\pi r^3}{{a_0}^3} $$"
   ]
  },
  {
   "cell_type": "markdown",
   "metadata": {},
   "source": [
    "Each crystal structure has a different number of atoms per unit cell and a different relationship between $r$ and $a_0$.\n",
    "\n",
    "For example, for a simple cubic crystal structure:\n",
    "\n",
    "$$ n_{atoms} = 1 $$\n",
    "\n",
    "$$ a_0 = 2r $$"
   ]
  },
  {
   "cell_type": "markdown",
   "metadata": {},
   "source": [
    "For the simple cubic crystal structure, we can plug these values for $n_{atoms}$ and $a_0$ into our equation for packing factor:\n",
    "\n",
    "$$ PF = \\frac{(1) \\frac{4}{3}\\pi r^3}{{(2r)}^3} $$"
   ]
  },
  {
   "cell_type": "markdown",
   "metadata": {},
   "source": [
    "This can be simplified to:\n",
    "\n",
    "$$ PF = \\frac{4\\pi r^3}{3 \\cdot 8{(r)}^3} $$"
   ]
  },
  {
   "cell_type": "markdown",
   "metadata": {},
   "source": [
    "One more simplification step\"\n",
    "\n",
    "$$ PF = \\frac{\\pi}{6} $$\n",
    "\n",
    "We can compute this packing factor using programming"
   ]
  },
  {
   "cell_type": "code",
   "execution_count": 1,
   "metadata": {},
   "outputs": [
    {
     "name": "stdout",
     "output_type": "stream",
     "text": [
      "The packing factor of simple cubic is PF = 0.52\n"
     ]
    }
   ],
   "source": [
    "from math import pi\n",
    "\n",
    "PF = pi/6\n",
    "\n",
    "print(f\"The packing factor of simple cubic is PF = {round(PF,2)}\")"
   ]
  },
  {
   "cell_type": "markdown",
   "metadata": {},
   "source": [
    "We can simplify the algebra and compute the packing factor of the face centered crystal structure (FCC) given the following properties for FCC:\n",
    "\n",
    "$$ n_{atoms} = 4 $$\n",
    "\n",
    "$$ a_0 = \\frac{4r}{\\sqrt{2}} $$"
   ]
  },
  {
   "cell_type": "code",
   "execution_count": 2,
   "metadata": {},
   "outputs": [],
   "source": [
    "from sympy import symbols\n",
    "\n",
    "a0, r, V_atoms, V_1atom, V_unitcell, n_atoms = symbols('a0, r, V_atoms, V_1atom, V_unitcell, n_atoms')"
   ]
  },
  {
   "cell_type": "code",
   "execution_count": 3,
   "metadata": {},
   "outputs": [
    {
     "name": "stdout",
     "output_type": "stream",
     "text": [
      "V_atoms/V_unitcell\n"
     ]
    }
   ],
   "source": [
    "PF_expression = V_atoms / V_unitcell\n",
    "print(PF_expression)"
   ]
  },
  {
   "cell_type": "code",
   "execution_count": 4,
   "metadata": {},
   "outputs": [
    {
     "name": "stdout",
     "output_type": "stream",
     "text": [
      "V_1atom*n_atoms/V_unitcell\n"
     ]
    }
   ],
   "source": [
    "PF_expression2 = PF_expression.subs(V_atoms, n_atoms * V_1atom)\n",
    "print(PF_expression2)"
   ]
  },
  {
   "cell_type": "code",
   "execution_count": 5,
   "metadata": {},
   "outputs": [
    {
     "name": "stdout",
     "output_type": "stream",
     "text": [
      "V_1atom*n_atoms/a0**3\n"
     ]
    }
   ],
   "source": [
    "PF_expression3 = PF_expression2.subs(V_unitcell, a0**3)\n",
    "print(PF_expression3)"
   ]
  },
  {
   "cell_type": "markdown",
   "metadata": {},
   "source": [
    "For FCC, there are 4 atoms per unit cell and a0 is equal to 4r/sqrt2"
   ]
  },
  {
   "cell_type": "code",
   "execution_count": 6,
   "metadata": {},
   "outputs": [
    {
     "name": "stdout",
     "output_type": "stream",
     "text": [
      "0.166666666666667*sqrt(2)*pi\n"
     ]
    }
   ],
   "source": [
    "\n",
    "from sympy import sqrt, pi\n",
    "\n",
    "PF_expression4 = PF_expression3.subs(a0, 4*r/sqrt(2)).subs(V_1atom, (4/3)*pi*r**3).subs(n_atoms,4)\n",
    "print(PF_expression4)"
   ]
  },
  {
   "cell_type": "code",
   "execution_count": 7,
   "metadata": {},
   "outputs": [],
   "source": [
    "PF_FCC = PF_expression4.evalf()"
   ]
  },
  {
   "cell_type": "code",
   "execution_count": 8,
   "metadata": {},
   "outputs": [
    {
     "name": "stdout",
     "output_type": "stream",
     "text": [
      "The packing factor of FCC is: 0.74\n"
     ]
    }
   ],
   "source": [
    "print(f\"The packing factor of FCC is: {round(PF_FCC,2)}\")"
   ]
  }
 ],
 "metadata": {
  "kernelspec": {
   "display_name": "emp",
   "language": "python",
   "name": "python3"
  },
  "language_info": {
   "codemirror_mode": {
    "name": "ipython",
    "version": 3
   },
   "file_extension": ".py",
   "mimetype": "text/x-python",
   "name": "python",
   "nbconvert_exporter": "python",
   "pygments_lexer": "ipython3",
   "version": "3.11.9"
  }
 },
 "nbformat": 4,
 "nbformat_minor": 2
}
