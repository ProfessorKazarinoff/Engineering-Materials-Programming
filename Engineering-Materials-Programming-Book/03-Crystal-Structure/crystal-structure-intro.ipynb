{
 "cells": [
  {
   "cell_type": "markdown",
   "id": "recorded-longitude",
   "metadata": {},
   "source": [
    "# Crystal Structure"
   ]
  },
  {
   "cell_type": "markdown",
   "id": "entertaining-update",
   "metadata": {},
   "source": [
    "Crystal structure refers to the short and long range order of atoms in materials. These crystalline structures are present in metals and ceramics. The treatment of polymer structure is detailed in the next chapter."
   ]
  },
  {
   "cell_type": "code",
   "execution_count": null,
   "id": "electronic-attack",
   "metadata": {},
   "outputs": [],
   "source": []
  }
 ],
 "metadata": {
  "kernelspec": {
   "display_name": "Python 3",
   "language": "python",
   "name": "python3"
  },
  "language_info": {
   "codemirror_mode": {
    "name": "ipython",
    "version": 3
   },
   "file_extension": ".py",
   "mimetype": "text/x-python",
   "name": "python",
   "nbconvert_exporter": "python",
   "pygments_lexer": "ipython3",
   "version": "3.8.5"
  }
 },
 "nbformat": 4,
 "nbformat_minor": 5
}