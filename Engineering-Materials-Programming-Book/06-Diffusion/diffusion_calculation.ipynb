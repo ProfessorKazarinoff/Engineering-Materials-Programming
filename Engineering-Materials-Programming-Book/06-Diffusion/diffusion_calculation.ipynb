{
 "cells": [
  {
   "cell_type": "markdown",
   "metadata": {},
   "source": [
    "## Diffusion Calculation"
   ]
  },
  {
   "cell_type": "markdown",
   "metadata": {},
   "source": [
    "Programming can be useful to solve complex diffusion calculations. The calculation below is completed with Python and a package  called [**pint**](https://pint.readthedocs.io/en/latest/). Pint is a package for dealing with units and unit conversion.\n",
    "\n",
    "The [**Anaconda**](https://www.anaconda.com/download/) distribution of **Python**, which comes with the **Anaconda Prompt** already installed. For help installing Anaconda, see the blog post: [Installing Anaconda on Windows 10](http://pythonforundergradengineers.com/installing-anaconda-on-windows.html). \n",
    "\n",
    "To use the **pint** package, you need to install **pint** using the **Anaconda Prompt**:\n",
    "\n",
    "```text\n",
    "> conda install -c conda-forge pint\n",
    "```\n"
   ]
  },
  {
   "cell_type": "markdown",
   "metadata": {},
   "source": [
    "The problem involes the diffusion of nitrogen gas (N<sub>2</sub>) into a thin plate of iron. \n",
    "\n",
    "#### Given:\n",
    "\n",
    "When &alpha;-iron is put in a nitrogen atmosphere, the concentration of nitrogen in the &alpha;-iron, $C_{N}$ (in units of wt%) is a function of the nitrogen pressure $P_{N_2}$ and temperature $T$ accoding to the relationship:\n",
    "\n",
    "$$C_{N} = 4.9 \\times 10^{-6} \\sqrt{P_{N_2}} exp{\\frac{Q_n}{RT}} $$\n",
    "\n",
    "Where:\n",
    "\n",
    "$Q_n = 37,600 \\frac{J}{mol}$\n",
    "\n",
    "$R=8.31 \\frac{J}{mol-K}$\n",
    "\n",
    "$T$ is the temperature in Kelvin.\n",
    "\n",
    "At 300 &deg;C the nitrogen gas pressure on one side of an iron plate is 0.10 MPa. On the other side of the iron plate, the nitrogen gas pressure is 5.0 MPa. The iron plate is a 1.5 mm thick.  Assume the pre-exponential term $D_0$ and the activation energy of diffusion of nitrogen in carbon, $Q_d$ are equal to the values below:\n",
    "\n",
    "$D_0 = 5 \\times 10^{-7} \\frac{m^2}{s}$\n",
    "\n",
    "$Q_d = 77,000 \\frac{J}{mol} $\n",
    "\n",
    "#### Find:\n",
    "\n",
    "Calculate the diffusion flux, _J_ through the plate using Fick's First Law of Diffusion:\n",
    "\n",
    "$$ J = -D \\frac{dC}{dx} $$"
   ]
  },
  {
   "cell_type": "markdown",
   "metadata": {},
   "source": [
    "#### Solution:\n",
    "\n",
    "We have a couple different quantities and a couple of different units to handle to solve this problem. We'll start out importing **pint** and creating a ```UnitRegistry``` object. We'll also need the ```exp``` (e raised to a power) and ```sqrt``` (square root) functions from the [math module](http://python.readthedocs.io/en/latest/library/math.html), part of the **Python** Standard Library."
   ]
  },
  {
   "cell_type": "code",
   "execution_count": 1,
   "metadata": {},
   "outputs": [],
   "source": [
    "import pint\n",
    "from math import exp, sqrt\n",
    "u = pint.UnitRegistry()"
   ]
  },
  {
   "cell_type": "markdown",
   "metadata": {},
   "source": [
    "Let's start with the temperature, T = 300 &deg;C.\n",
    "\n",
    "Temperature units in &deg;F and &deg;C are relative units with an [off-set scale](http://pint.readthedocs.io/en/latest/nonmult.html). &deg;C and &deg;F are not _multiplicative units_.  _Non-multiplicatve units_ are handled by **pint** a little differently compared to regular _multiplicative_ units.  \n",
    "\n",
    "To create a variable including a unit of degrees C, we instantiate a ```Quantity``` object and pass in the temperature in &deg;C along with the unit (```u.degC```). We can convert the temperature to Kelvin (K) using the ```.ito``` method. \n",
    "\n",
    "Since we want to do some mulipication, division and exponentiation with our temperature, we need to convert the temperature to a _multiplicative_ unit. **Pint** has two versions of the temperature unit in Kelvin (K). There is the _non-multiplicative_ type ```degK``` and the _multiplicative_ type ```kelvin```. \n",
    "\n",
    "We convert the temperature variable ```T``` to the _multiplicative_ type ```kelvin``` by pulling out the magnitude (the number part without the ```degK``` unit) from the ```T``` variable and multiplying it by the ```kevlin``` unit from **pint**."
   ]
  },
  {
   "cell_type": "code",
   "execution_count": 2,
   "metadata": {},
   "outputs": [
    {
     "name": "stdout",
     "output_type": "stream",
     "text": [
      "T = 300 degree_Celsius\n",
      "T = 573.15 kelvin\n",
      "573.15 kelvin\n"
     ]
    }
   ],
   "source": [
    "Q_ = u.Quantity\n",
    "T = Q_(300, u.degC)\n",
    "print(f\"T = {T}\")\n",
    "T.ito('degK')\n",
    "print(f\"T = {T}\")\n",
    "T = T.magnitude * u.kelvin\n",
    "print(T)"
   ]
  },
  {
   "cell_type": "markdown",
   "metadata": {},
   "source": [
    "Next we'll create variables for $Q_n = 37,600 \\frac{J}{mol}$ and the universal gas contant $R=8.31 \\frac{J}{mol-K}$"
   ]
  },
  {
   "cell_type": "code",
   "execution_count": 3,
   "metadata": {},
   "outputs": [],
   "source": [
    "Qn = 37600 * u.J/u.mol\n",
    "R = 8.31 * u.J/(u.mol*u.kelvin)"
   ]
  },
  {
   "cell_type": "markdown",
   "metadata": {},
   "source": [
    "Our first nitrogen pressure is 0.10 MPa and our second nitrogen pressure is 5.0 MPa, we'll make variables for both:"
   ]
  },
  {
   "cell_type": "code",
   "execution_count": 4,
   "metadata": {},
   "outputs": [],
   "source": [
    "PN1 = 0.10\n",
    "PN2 = 5.0"
   ]
  },
  {
   "cell_type": "markdown",
   "metadata": {},
   "source": [
    "Now we can calculate the two nitrogren concentrations in wt% using the equation:\n",
    "\n",
    "$$C_{N} = 4.9 \\times 10^{-6} \\sqrt{P_{N_2}} exp{\\frac{Q_n}{RT}}$$\n",
    "\n",
    "where $P_{N_2}$ = 0.10 for one side of the iron plate and $P_{N_2}$ = 5.0 for the other side of the iron plate"
   ]
  },
  {
   "cell_type": "code",
   "execution_count": 5,
   "metadata": {},
   "outputs": [
    {
     "name": "stdout",
     "output_type": "stream",
     "text": [
      "5.777054779474043e-07\n"
     ]
    }
   ],
   "source": [
    "CN1 = (4.9e-3)*sqrt(PN1)*exp(-Qn/(R*T))\n",
    "print(CN1)"
   ]
  },
  {
   "cell_type": "code",
   "execution_count": 6,
   "metadata": {},
   "outputs": [
    {
     "name": "stdout",
     "output_type": "stream",
     "text": [
      "4.084994609852251e-06\n"
     ]
    }
   ],
   "source": [
    "CN2 = (4.9e-3)*sqrt(PN2)*exp(-Qn/(R*T))\n",
    "print(CN2)"
   ]
  },
  {
   "cell_type": "markdown",
   "metadata": {},
   "source": [
    "These values ```CN1``` and ```CN2``` are in units of wt% N in an iron-nitrogen \"alloy\" where almost all of the alloy is iron with only a small amount of nitrogen. To use Fick's First Law of Diffusion:\n",
    "\n",
    "$$ J = -D \\frac{dC}{dx} $$\n",
    "\n",
    "We need a concentration gradient $dC$ in units of mass per unit volume like kg/m<sup>3</sup> or g/cm<sup>3</sup> not in units of wt %. Therefore we need to convert the two concentrations of nitrogen in iron, ```CN1``` and ```CN2``` from units of wt% to units of kg/m<sup>3</sup>.\n",
    "\n",
    "To make the conversion between wt% and mass per unit volume we have to pick a sample mass of iron. This mass of iron will contain a mass of nitrogen (based on wt%). We can divide this mass of nitrogen by the volume of iron that corresponds to the mass of iron we picked. As long as we divide the mass of nitrogen by the volume of iron that contains that mass of nitrogen, we will end up with a unit conversion from wt% to kg/m<sup>3</sup> that works. So let's pick 1 kilogram of iron, and use the density of iron as 7.874 g/cm<sup>3</sup>.\n",
    "\n",
    "We set a variable ```p``` to equal the density of iron in g/cm<sup>3</sup> and use the ```.ito()``` method to convert the density to units of kg/m<sup>3</sup>. Then we divide the mass of iron that we picked (1 kg) and convert it to volume of iron using the density ```p```. This will give use the volume of 1kg of iron in units of m<sup>3</sup>."
   ]
  },
  {
   "cell_type": "code",
   "execution_count": 7,
   "metadata": {},
   "outputs": [],
   "source": [
    "p=7.874*u.g/u.cm**3\n",
    "p.ito(u.kg/u.m**3)\n",
    "mFe = 1*u.kg\n",
    "vFe = mFe/p"
   ]
  },
  {
   "cell_type": "markdown",
   "metadata": {},
   "source": [
    "Now we'll determine how many kg of nitrogen there are in 1 kg of iron given our concentrations ```CN1``` and ```CN2``` in wt%.  Note that we have to multiply ```CN1``` and ```CN2``` by ```0.01``` because ```CN1``` and ```CN2``` are in units of %.  \n",
    "\n",
    "When we divide the mass of nitrogen by the volume of iron, we get a concentration of nitrogen in iron in units of kg/m<sup>3</sup>, which is the concentration units we need to use the Fick's First Law of Diffusion."
   ]
  },
  {
   "cell_type": "code",
   "execution_count": 8,
   "metadata": {},
   "outputs": [
    {
     "name": "stdout",
     "output_type": "stream",
     "text": [
      "4.5488529333578606e-05 kilogram / meter ** 3\n",
      "0.0003216524755797662 kilogram / meter ** 3\n"
     ]
    }
   ],
   "source": [
    "mN1 = mFe*CN1*0.01\n",
    "CN1 = mN1/vFe\n",
    "print(CN1)\n",
    "\n",
    "mN2 = mFe*CN2*0.01\n",
    "CN2 = mN2/vFe\n",
    "print(CN2)"
   ]
  },
  {
   "cell_type": "markdown",
   "metadata": {},
   "source": [
    "Back to Fick's Fist Law of Diffusion:\n",
    "\n",
    "$$ J = -D \\frac{dC}{dx} $$\n",
    "\n",
    "The difference in concentration $dC$, is just the difference between the two concentrations ```CN1``` and ```CN2``` now that they are both in units of kg/m<sup>3</sup>. $dx$, the change in distance is the thickness of the plate, 1.5 mm. We'll convert the change in distance, $dx$ to units of meters using the ```ito()``` method. "
   ]
  },
  {
   "cell_type": "code",
   "execution_count": 9,
   "metadata": {},
   "outputs": [],
   "source": [
    "dC = CN2-CN1\n",
    "dx = 1.5 *u.mm\n",
    "dx.ito(u.m)"
   ]
  },
  {
   "cell_type": "markdown",
   "metadata": {},
   "source": [
    "Next we need to find the diffusion coefficient $D$. To do this, we need the pre-exponential term $D_0$ and the activating envery of diffusion $Q_d$.\n",
    "\n",
    "From the beginning of the problem:\n",
    "\n",
    "$D_0 = 5 \\times 10^{-7} \\frac{m^2}{s}$\n",
    "\n",
    "$Q_d = 77,000 \\frac{J}{mol} $\n",
    "\n",
    "Let's assign these to variables with the applicable units."
   ]
  },
  {
   "cell_type": "code",
   "execution_count": 10,
   "metadata": {},
   "outputs": [],
   "source": [
    "D0 = 5e-7 * u.m**2/u.s\n",
    "Qd = 77000 * u.J/u.mol"
   ]
  },
  {
   "cell_type": "markdown",
   "metadata": {},
   "source": [
    "To calculate diffusion constant $D$, we use the equation which relates diffusion coefficient, $D$ to temperature, $T$ according to:\n",
    "\n",
    "$$ D = D_0e^{\\frac{-Q_d}{RT}} $$"
   ]
  },
  {
   "cell_type": "code",
   "execution_count": 11,
   "metadata": {},
   "outputs": [
    {
     "name": "stdout",
     "output_type": "stream",
     "text": [
      "4.7627851906932175e-14 meter ** 2 / second\n"
     ]
    }
   ],
   "source": [
    "D = D0 * exp(-Qd/(R*T))\n",
    "print(D)"
   ]
  },
  {
   "cell_type": "markdown",
   "metadata": {},
   "source": [
    "Now that we have $D$, $dC$ and $dx$, we can finally calculate diffusion flux, $J$ through the plate using Fick's First Law of Diffusion:\n",
    "\n",
    "$$ J = -D \\frac{dC}{dx} $$"
   ]
  },
  {
   "cell_type": "code",
   "execution_count": 12,
   "metadata": {},
   "outputs": [
    {
     "data": {
      "text/html": [
       "-8.768730355898267e-15 kilogram/(meter<sup>2</sup> second)"
      ],
      "text/latex": [
       "$-8.768730355898267\\times 10^{-15}\\ \\frac{\\mathrm{kilogram}}{\\left(\\mathrm{meter}^{2} \\cdot \\mathrm{second}\\right)}$"
      ],
      "text/plain": [
       "-8.768730355898267e-15 <Unit('kilogram / meter ** 2 / second')>"
      ]
     },
     "execution_count": 12,
     "metadata": {},
     "output_type": "execute_result"
    }
   ],
   "source": [
    "J = -D*(dC/dx)\n",
    "J"
   ]
  },
  {
   "cell_type": "markdown",
   "metadata": {
    "collapsed": true
   },
   "source": [
    "#### Final Answer:\n",
    "\n",
    "So the final answer rounded to 3 sig figs is:\n",
    "\n",
    "$J = -8.77 \\times 10^{-15} \\frac{kg}{m^{2}s}$"
   ]
  }
 ],
 "metadata": {
  "kernelspec": {
   "display_name": "Python 3",
   "language": "python",
   "name": "python3"
  },
  "language_info": {
   "codemirror_mode": {
    "name": "ipython",
    "version": 3
   },
   "file_extension": ".py",
   "mimetype": "text/x-python",
   "name": "python",
   "nbconvert_exporter": "python",
   "pygments_lexer": "ipython3",
   "version": "3.7.6"
  }
 },
 "nbformat": 4,
 "nbformat_minor": 2
}
