{
 "cells": [
  {
   "cell_type": "markdown",
   "id": "exceptional-guidance",
   "metadata": {},
   "source": [
    "# Atomic Structure and Bonding"
   ]
  },
  {
   "cell_type": "markdown",
   "id": "instructional-invalid",
   "metadata": {},
   "source": [
    "This chapter contains problems that relate to atomic structure and bonding.\n",
    "\n",
    "Atomic structure is the structure of an atom. This includes how many protons, neutrons and electrons are present as well as other atomic properties such as electronegativity and atomic radius. "
   ]
  }
 ],
 "metadata": {
  "kernelspec": {
   "display_name": "Python 3",
   "language": "python",
   "name": "python3"
  },
  "language_info": {
   "codemirror_mode": {
    "name": "ipython",
    "version": 3
   },
   "file_extension": ".py",
   "mimetype": "text/x-python",
   "name": "python",
   "nbconvert_exporter": "python",
   "pygments_lexer": "ipython3",
   "version": "3.8.5"
  }
 },
 "nbformat": 4,
 "nbformat_minor": 5
}
