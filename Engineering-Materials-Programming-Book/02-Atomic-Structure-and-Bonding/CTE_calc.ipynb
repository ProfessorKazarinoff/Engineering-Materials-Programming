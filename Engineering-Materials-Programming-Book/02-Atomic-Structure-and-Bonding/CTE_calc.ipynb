{
 "cells": [
  {
   "cell_type": "markdown",
   "metadata": {},
   "source": [
    "## CTE Calculation"
   ]
  },
  {
   "cell_type": "markdown",
   "metadata": {
    "collapsed": true
   },
   "source": [
    "### Problem 1: Cooling a Copper Bearing\n",
    "\n",
    "#### Given:\n",
    "\n",
    "A Copper bearing 80.10 mm at 20 *C needs to fit into a hole 80.00 mm. Assume alpha for copper is 17 x 10^-6 /*C.\n",
    "\n",
    "#### Find:\n",
    "\n",
    "What temperature does the copper bearing need be cooled down to in order to it inside the hole?  If clearence is included, note it.\n",
    "\n",
    "#### Solution:\n",
    "\n",
    "Create a function called ```cl()```. If 0.02 mm of clearence is assumed, then running ```cl(0.02)``` will calculate the temperature the copper bearing needs to be cooled to in order to fit in the 80.00 mm hole with 0.02 mm of clearence."
   ]
  },
  {
   "cell_type": "code",
   "execution_count": 1,
   "metadata": {},
   "outputs": [],
   "source": [
    "def cl(clnc=0):\n",
    "    L0 = 80\n",
    "    T2 = 20\n",
    "    dL = 0.1 + clnc\n",
    "    alpha = 17e-6\n",
    "    T1 = T2 - ( (dL) / (alpha*L0))\n",
    "    T1 = round(T1,2)\n",
    "    return(T1)\n",
    "    "
   ]
  },
  {
   "cell_type": "markdown",
   "metadata": {},
   "source": [
    "Assuming no clearance, the copper bearing needs to be cooled to:"
   ]
  },
  {
   "cell_type": "code",
   "execution_count": 2,
   "metadata": {},
   "outputs": [
    {
     "output_type": "execute_result",
     "data": {
      "text/plain": [
       "-53.53"
      ]
     },
     "metadata": {},
     "execution_count": 2
    }
   ],
   "source": [
    "cl()"
   ]
  },
  {
   "cell_type": "markdown",
   "metadata": {},
   "source": [
    "Assuming 0.02 mm of clearance, the copper bearing needs to be cooled to:"
   ]
  },
  {
   "cell_type": "code",
   "execution_count": 3,
   "metadata": {},
   "outputs": [
    {
     "output_type": "execute_result",
     "data": {
      "text/plain": [
       "-68.24"
      ]
     },
     "metadata": {},
     "execution_count": 3
    }
   ],
   "source": [
    "cl(0.02)"
   ]
  },
  {
   "cell_type": "markdown",
   "metadata": {},
   "source": [
    "Assuming 0.01 mm of clearance, the copper bearing needs to be cooled to:"
   ]
  },
  {
   "cell_type": "code",
   "execution_count": 4,
   "metadata": {},
   "outputs": [
    {
     "output_type": "execute_result",
     "data": {
      "text/plain": [
       "-60.88"
      ]
     },
     "metadata": {},
     "execution_count": 4
    }
   ],
   "source": [
    "cl(0.01)"
   ]
  },
  {
   "cell_type": "markdown",
   "metadata": {},
   "source": [
    "### Problem 2: Heating an aluminum case\n",
    "\n",
    "#### Given:\n",
    "\n",
    "At room temperature (20 °C), copper bearing with an outside diameter of 80.10 mm does not fit into an aluminum case with a hole diameter of 80.00 mm.  In order for this to be accomplished, a furnace or hotplate can be used to heat the case. \n",
    "\n",
    "#### Find:\n",
    "\n",
    "What temperature must the case be heated up to in order for the bearing to fit in the case?\n",
    "\n",
    "#### Assumptions:\n",
    "\n",
    "Assume the bearing stays at room temperature. If assuming a clearance, note the clearance amount as part of your solution on your answer sheet below the answer. \n",
    "\n",
    "Assume the coefficient of thermal expansion of aluminum is 24 × 10-6 °C<sup>-1</sup> and the coefficient of thermal expasion of copper is 17 × 10-6 °C<sup>-1</sup>)"
   ]
  },
  {
   "cell_type": "code",
   "execution_count": 5,
   "metadata": {},
   "outputs": [],
   "source": [
    "def cl(clnc=0):\n",
    "    L0 = 80\n",
    "    #T2 = ?\n",
    "    T1 = 20\n",
    "    dL = 0.1 + clnc\n",
    "    alpha = 24e-6\n",
    "    T2 = T1 + ( (dL) / (alpha*L0))\n",
    "    T2 = round(T2,2)\n",
    "    return(T2)"
   ]
  },
  {
   "cell_type": "markdown",
   "metadata": {},
   "source": [
    "Assuming no clearence, the case needs to be heated up to:"
   ]
  },
  {
   "cell_type": "code",
   "execution_count": 6,
   "metadata": {},
   "outputs": [
    {
     "output_type": "execute_result",
     "data": {
      "text/plain": [
       "72.08"
      ]
     },
     "metadata": {},
     "execution_count": 6
    }
   ],
   "source": [
    "cl()"
   ]
  },
  {
   "cell_type": "markdown",
   "metadata": {},
   "source": [
    "Assuming 0.05 mm of clearence, the case needs to be heated up to:"
   ]
  },
  {
   "cell_type": "code",
   "execution_count": 7,
   "metadata": {},
   "outputs": [
    {
     "output_type": "execute_result",
     "data": {
      "text/plain": [
       "98.13"
      ]
     },
     "metadata": {},
     "execution_count": 7
    }
   ],
   "source": [
    "cl(0.05)"
   ]
  }
 ],
 "metadata": {
  "kernelspec": {
   "display_name": "Python 3",
   "language": "python",
   "name": "python3"
  },
  "language_info": {
   "codemirror_mode": {
    "name": "ipython",
    "version": 3
   },
   "file_extension": ".py",
   "mimetype": "text/x-python",
   "name": "python",
   "nbconvert_exporter": "python",
   "pygments_lexer": "ipython3",
   "version": "3.8.5-final"
  }
 },
 "nbformat": 4,
 "nbformat_minor": 2
}